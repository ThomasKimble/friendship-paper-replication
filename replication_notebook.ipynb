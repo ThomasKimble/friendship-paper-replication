{
 "cells": [
  {
   "cell_type": "markdown",
   "metadata": {},
   "source": [
    "# Replication Report\n",
    "\n",
    "By the end of this project milestone, a figure replication attempt will be made concerning the paper and figures mentionned below. \n",
    "\n",
    "---\n",
    "\n",
    "## Friendship and Mobility: User Movement in Location-Based Social Networks\n",
    "\n",
    "**Abstract:** Even though human movement and mobility patterns have a high degree of freedom and variation, they also exhibit structural patterns due to geographic and social constraints. Using cell phone location data, as well as data from two online location-based social networks, we aim to understand what basic laws govern human motion and dynamics. We find that humans experience a combination of periodic movement that is geographically limited and seemingly random jumps correlated with their social networks. Short-ranged travel is periodic both spatially and temporally and not effected by the social network structure, while long-distance travel is more influenced by social network ties. We show that social relationships can explain about 10% to 30% of all human movement, while periodic behavior explains 50% to 70%. Based on our findings, we develop a model of human mobility that combines periodic short range movements with travel due to the social network structure. We show that our model reliably predicts the locations and dynam- ics of future human movement and gives an order of magnitude better performance than present models of human mobility.\n",
    "\n",
    "---\n",
    "\n",
    "## The data\n",
    "\n",
    "The replication will consider the same two online location-based social networks: Gowalla and Brightkite. Like in the previous replication, the dataset used contains friendship networks and space-time check-in information for each social network. The dataset is available in the `data` directory pushed to the same GitHub repo as this notebook. This directory contains four compressed files and are described below.\n",
    "\n",
    "### Friendship undirected network data\n",
    "\n",
    "* `loc-brightkite_edges.txt.gz` Friendship undirected network of Gowalla users.\n",
    "\n",
    "* `loc-gowalla_edges.txt.gz` Friendship undirected network of Brightkite users.\n",
    "\n",
    "**Example:**\n",
    "~~~\n",
    "[user]      [friendship]\n",
    "0           1\n",
    "0           2\n",
    "0           3\n",
    "1           0\n",
    "1           3\n",
    "1           4\n",
    "...         ...\n",
    "~~~\n",
    "\n",
    "\n",
    "### Time and location information of check-ins\n",
    "\n",
    "* `loc-brightkite_totalCheckins.txt.gz` Time and location information of check-ins made by Gowalla users.\n",
    "\n",
    "* `loc-gowalla_totalCheckins.txt.gz` Time and location information of check-ins made by Brightkite users.\n",
    "\n",
    "**Example:**\n",
    "~~~\n",
    "[user]  [check-in time]         [latitude]      [longitude]     [location id]\n",
    "196514  2010-07-24T13:45:06Z    53.3648119      -2.2723465833   145064\n",
    "196514  2010-07-24T13:44:58Z    53.360511233    -2.276369017    1275991\n",
    "196514  2010-07-24T13:44:46Z    53.3653895945   -2.2754087046   376497\n",
    "196514  2010-07-24T13:44:38Z    53.3663709833   -2.2700764333   98503\n",
    "196514  2010-07-24T13:44:26Z    53.3674087524   -2.2783813477   1043431\n",
    "...     ...                     ...             ...             ...\n",
    "~~~\n"
   ]
  },
  {
   "cell_type": "markdown",
   "metadata": {},
   "source": [
    "---\n",
    "\n",
    "# Replication 1:\n",
    "\n",
    "## Figure 2A: Distribution of home distances between friends\n",
    "\n",
    "The figure to replicate is the following:\n",
    "\n",
    "<img src=\"Data/2A.png\" width=400>\n",
    "\n",
    "This figure shows distribution of distances between the homes of friends. We observe a kink at around 100km, which shows that the probability of two friends living a certain distance away decreases quickly at first but then slows down after the distance between the homes increases above 100km."
   ]
  },
  {
   "cell_type": "markdown",
   "metadata": {},
   "source": [
    "---\n",
    "## _Step 1:_ Loading the Data\n",
    "\n",
    "Here we want to read and load the data. We shall procede with the following steps:\n",
    "1. Import correct libraries\n",
    "2. Load the raw data correctly"
   ]
  },
  {
   "cell_type": "markdown",
   "metadata": {},
   "source": [
    "---\n",
    "### 1.1 Import Libraries"
   ]
  },
  {
   "cell_type": "code",
   "execution_count": 1,
   "metadata": {},
   "outputs": [],
   "source": [
    "import pandas as pd\n",
    "import numpy as np\n",
    "import matplotlib.pyplot as plt\n",
    "import datetime\n",
    "import seaborn as sns"
   ]
  },
  {
   "cell_type": "markdown",
   "metadata": {},
   "source": [
    "---\n",
    "### 1.2 Load Data\n",
    "\n",
    "We load the data, which is made up of four compressed .txt files where each value is seperated with a tab \"\\t\"."
   ]
  },
  {
   "cell_type": "code",
   "execution_count": 2,
   "metadata": {},
   "outputs": [],
   "source": [
    "# Dataset location\n",
    "DATA_FOLDER = 'Data/'\n",
    "\n",
    "BRIGHTKITE_EDGES_DATASET   = DATA_FOLDER + \"loc-brightkite_edges.txt.gz\"\n",
    "BRIGHTKITE_CHECKIN_DATASET = DATA_FOLDER + \"loc-brightkite_totalCheckins.txt.gz\"\n",
    "GOWALLA_EDGES_DATASET      = DATA_FOLDER + \"loc-gowalla_edges.txt.gz\"\n",
    "GOWALLA_CHECKIN_DATASET    = DATA_FOLDER + \"loc-gowalla_totalCheckins.txt.gz\"\n",
    "\n",
    "# Brightkite (BK) raw data\n",
    "BK_edges_raw    = pd.read_csv(BRIGHTKITE_EDGES_DATASET, sep='\\t', header=None)\n",
    "BK_checkins_raw = pd.read_csv(BRIGHTKITE_CHECKIN_DATASET, sep='\\t', header=None)\n",
    "\n",
    "# Gowalla (GW) raw data\n",
    "GW_edges_raw    = pd.read_csv(GOWALLA_EDGES_DATASET, sep='\\t', header=None)\n",
    "GW_checkins_raw = pd.read_csv(GOWALLA_CHECKIN_DATASET, sep='\\t', header=None)"
   ]
  },
  {
   "cell_type": "markdown",
   "metadata": {},
   "source": [
    "We visualise the first values of Brightkite's friendship network data."
   ]
  },
  {
   "cell_type": "code",
   "execution_count": 3,
   "metadata": {},
   "outputs": [
    {
     "data": {
      "text/html": [
       "<div>\n",
       "<style scoped>\n",
       "    .dataframe tbody tr th:only-of-type {\n",
       "        vertical-align: middle;\n",
       "    }\n",
       "\n",
       "    .dataframe tbody tr th {\n",
       "        vertical-align: top;\n",
       "    }\n",
       "\n",
       "    .dataframe thead th {\n",
       "        text-align: right;\n",
       "    }\n",
       "</style>\n",
       "<table border=\"1\" class=\"dataframe\">\n",
       "  <thead>\n",
       "    <tr style=\"text-align: right;\">\n",
       "      <th></th>\n",
       "      <th>0</th>\n",
       "      <th>1</th>\n",
       "    </tr>\n",
       "  </thead>\n",
       "  <tbody>\n",
       "    <tr>\n",
       "      <th>0</th>\n",
       "      <td>0</td>\n",
       "      <td>1</td>\n",
       "    </tr>\n",
       "    <tr>\n",
       "      <th>1</th>\n",
       "      <td>0</td>\n",
       "      <td>2</td>\n",
       "    </tr>\n",
       "    <tr>\n",
       "      <th>2</th>\n",
       "      <td>0</td>\n",
       "      <td>3</td>\n",
       "    </tr>\n",
       "  </tbody>\n",
       "</table>\n",
       "</div>"
      ],
      "text/plain": [
       "   0  1\n",
       "0  0  1\n",
       "1  0  2\n",
       "2  0  3"
      ]
     },
     "execution_count": 3,
     "metadata": {},
     "output_type": "execute_result"
    }
   ],
   "source": [
    "# Visualise raw data\n",
    "BK_edges_raw.head(3)"
   ]
  },
  {
   "cell_type": "markdown",
   "metadata": {},
   "source": [
    "We visualise the first values of Gowallas's check-in information data."
   ]
  },
  {
   "cell_type": "code",
   "execution_count": 4,
   "metadata": {},
   "outputs": [
    {
     "data": {
      "text/html": [
       "<div>\n",
       "<style scoped>\n",
       "    .dataframe tbody tr th:only-of-type {\n",
       "        vertical-align: middle;\n",
       "    }\n",
       "\n",
       "    .dataframe tbody tr th {\n",
       "        vertical-align: top;\n",
       "    }\n",
       "\n",
       "    .dataframe thead th {\n",
       "        text-align: right;\n",
       "    }\n",
       "</style>\n",
       "<table border=\"1\" class=\"dataframe\">\n",
       "  <thead>\n",
       "    <tr style=\"text-align: right;\">\n",
       "      <th></th>\n",
       "      <th>0</th>\n",
       "      <th>1</th>\n",
       "      <th>2</th>\n",
       "      <th>3</th>\n",
       "      <th>4</th>\n",
       "    </tr>\n",
       "  </thead>\n",
       "  <tbody>\n",
       "    <tr>\n",
       "      <th>0</th>\n",
       "      <td>0</td>\n",
       "      <td>2010-10-19T23:55:27Z</td>\n",
       "      <td>30.235909</td>\n",
       "      <td>-97.795140</td>\n",
       "      <td>22847</td>\n",
       "    </tr>\n",
       "    <tr>\n",
       "      <th>1</th>\n",
       "      <td>0</td>\n",
       "      <td>2010-10-18T22:17:43Z</td>\n",
       "      <td>30.269103</td>\n",
       "      <td>-97.749395</td>\n",
       "      <td>420315</td>\n",
       "    </tr>\n",
       "    <tr>\n",
       "      <th>2</th>\n",
       "      <td>0</td>\n",
       "      <td>2010-10-17T23:42:03Z</td>\n",
       "      <td>30.255731</td>\n",
       "      <td>-97.763386</td>\n",
       "      <td>316637</td>\n",
       "    </tr>\n",
       "  </tbody>\n",
       "</table>\n",
       "</div>"
      ],
      "text/plain": [
       "   0                     1          2          3       4\n",
       "0  0  2010-10-19T23:55:27Z  30.235909 -97.795140   22847\n",
       "1  0  2010-10-18T22:17:43Z  30.269103 -97.749395  420315\n",
       "2  0  2010-10-17T23:42:03Z  30.255731 -97.763386  316637"
      ]
     },
     "execution_count": 4,
     "metadata": {},
     "output_type": "execute_result"
    }
   ],
   "source": [
    "# Visualise raw data\n",
    "GW_checkins_raw.head(3)"
   ]
  },
  {
   "cell_type": "markdown",
   "metadata": {},
   "source": [
    "---\n",
    "## _Step 2:_ Filtering the Data\n",
    "\n",
    "Here we notice mainly that some of the latitude and longitude values are impossible such as lat = 0 and lon = 0. Sometimes this also results in mistakes in the _location id_ column. Therefore in this step we do the following:\n",
    "1. Rename the columns for more coherant dataframe handling and visualisation \n",
    "2. Change the check-in times to pandas' datetime format\n",
    "3. Remove incoherant lines due to incorrect latitude and longitude"
   ]
  },
  {
   "cell_type": "markdown",
   "metadata": {},
   "source": [
    "---\n",
    "### 2.1 Column names"
   ]
  },
  {
   "cell_type": "markdown",
   "metadata": {},
   "source": [
    "The raw data does not give names to the columns, therefore we choose to rename as described in the introduction. We create a function to be able to rename columns for each social network."
   ]
  },
  {
   "cell_type": "code",
   "execution_count": 5,
   "metadata": {},
   "outputs": [],
   "source": [
    "def rename_columns(edges_raw, checkins_raw):\n",
    "    # Input:\n",
    "    # -- edges_raw: a pandas dataframe containing a friendship network\n",
    "    # -- checkins_raw: a pandas dataframe containing check-in information\n",
    "    # Output:\n",
    "    # -- edges_df: a pandas dataframe containing the friendship network with new column names\n",
    "    # -- checkins_df: a pandas dataframe containing the check-in information with new column names\n",
    "    \n",
    "    # Copy raw data and rename friendship network dataframes\n",
    "    edges_df = edges_raw.copy()\n",
    "    edges_df.columns = ['user', 'friendship']\n",
    "\n",
    "    # Copy raw data and rename check-in information dataframes\n",
    "    checkins_df = checkins_raw.copy()\n",
    "    checkins_df.columns = ['user', 'check-in time', 'latitude', 'longitude', 'location id']\n",
    "    \n",
    "    return edges_df, checkins_df"
   ]
  },
  {
   "cell_type": "markdown",
   "metadata": {},
   "source": [
    "We apply the renaming function to each social network datasets."
   ]
  },
  {
   "cell_type": "code",
   "execution_count": 6,
   "metadata": {},
   "outputs": [],
   "source": [
    "# Rename columns\n",
    "BK_edges_df, BK_checkins_df = rename_columns(BK_edges_raw, BK_checkins_raw)\n",
    "GW_edges_df, GW_checkins_df = rename_columns(GW_edges_raw, GW_checkins_raw)"
   ]
  },
  {
   "cell_type": "markdown",
   "metadata": {},
   "source": [
    "We visualise the first values of Gowallas's friendship network data with the new column names."
   ]
  },
  {
   "cell_type": "code",
   "execution_count": 7,
   "metadata": {},
   "outputs": [
    {
     "data": {
      "text/html": [
       "<div>\n",
       "<style scoped>\n",
       "    .dataframe tbody tr th:only-of-type {\n",
       "        vertical-align: middle;\n",
       "    }\n",
       "\n",
       "    .dataframe tbody tr th {\n",
       "        vertical-align: top;\n",
       "    }\n",
       "\n",
       "    .dataframe thead th {\n",
       "        text-align: right;\n",
       "    }\n",
       "</style>\n",
       "<table border=\"1\" class=\"dataframe\">\n",
       "  <thead>\n",
       "    <tr style=\"text-align: right;\">\n",
       "      <th></th>\n",
       "      <th>user</th>\n",
       "      <th>friendship</th>\n",
       "    </tr>\n",
       "  </thead>\n",
       "  <tbody>\n",
       "    <tr>\n",
       "      <th>0</th>\n",
       "      <td>0</td>\n",
       "      <td>1</td>\n",
       "    </tr>\n",
       "    <tr>\n",
       "      <th>1</th>\n",
       "      <td>0</td>\n",
       "      <td>2</td>\n",
       "    </tr>\n",
       "    <tr>\n",
       "      <th>2</th>\n",
       "      <td>0</td>\n",
       "      <td>3</td>\n",
       "    </tr>\n",
       "  </tbody>\n",
       "</table>\n",
       "</div>"
      ],
      "text/plain": [
       "   user  friendship\n",
       "0     0           1\n",
       "1     0           2\n",
       "2     0           3"
      ]
     },
     "execution_count": 7,
     "metadata": {},
     "output_type": "execute_result"
    }
   ],
   "source": [
    "# Visualise data\n",
    "GW_edges_df.head(3)"
   ]
  },
  {
   "cell_type": "markdown",
   "metadata": {},
   "source": [
    "We visualise the first values of Brightkites's check-in information data with the new column names."
   ]
  },
  {
   "cell_type": "code",
   "execution_count": 8,
   "metadata": {},
   "outputs": [
    {
     "data": {
      "text/html": [
       "<div>\n",
       "<style scoped>\n",
       "    .dataframe tbody tr th:only-of-type {\n",
       "        vertical-align: middle;\n",
       "    }\n",
       "\n",
       "    .dataframe tbody tr th {\n",
       "        vertical-align: top;\n",
       "    }\n",
       "\n",
       "    .dataframe thead th {\n",
       "        text-align: right;\n",
       "    }\n",
       "</style>\n",
       "<table border=\"1\" class=\"dataframe\">\n",
       "  <thead>\n",
       "    <tr style=\"text-align: right;\">\n",
       "      <th></th>\n",
       "      <th>user</th>\n",
       "      <th>check-in time</th>\n",
       "      <th>latitude</th>\n",
       "      <th>longitude</th>\n",
       "      <th>location id</th>\n",
       "    </tr>\n",
       "  </thead>\n",
       "  <tbody>\n",
       "    <tr>\n",
       "      <th>0</th>\n",
       "      <td>0</td>\n",
       "      <td>2010-10-17T01:48:53Z</td>\n",
       "      <td>39.747652</td>\n",
       "      <td>-104.992510</td>\n",
       "      <td>88c46bf20db295831bd2d1718ad7e6f5</td>\n",
       "    </tr>\n",
       "    <tr>\n",
       "      <th>1</th>\n",
       "      <td>0</td>\n",
       "      <td>2010-10-16T06:02:04Z</td>\n",
       "      <td>39.891383</td>\n",
       "      <td>-105.070814</td>\n",
       "      <td>7a0f88982aa015062b95e3b4843f9ca2</td>\n",
       "    </tr>\n",
       "    <tr>\n",
       "      <th>2</th>\n",
       "      <td>0</td>\n",
       "      <td>2010-10-16T03:48:54Z</td>\n",
       "      <td>39.891077</td>\n",
       "      <td>-105.068532</td>\n",
       "      <td>dd7cd3d264c2d063832db506fba8bf79</td>\n",
       "    </tr>\n",
       "  </tbody>\n",
       "</table>\n",
       "</div>"
      ],
      "text/plain": [
       "   user         check-in time   latitude   longitude  \\\n",
       "0     0  2010-10-17T01:48:53Z  39.747652 -104.992510   \n",
       "1     0  2010-10-16T06:02:04Z  39.891383 -105.070814   \n",
       "2     0  2010-10-16T03:48:54Z  39.891077 -105.068532   \n",
       "\n",
       "                        location id  \n",
       "0  88c46bf20db295831bd2d1718ad7e6f5  \n",
       "1  7a0f88982aa015062b95e3b4843f9ca2  \n",
       "2  dd7cd3d264c2d063832db506fba8bf79  "
      ]
     },
     "execution_count": 8,
     "metadata": {},
     "output_type": "execute_result"
    }
   ],
   "source": [
    "# Visualise data\n",
    "BK_checkins_df.head(3)"
   ]
  },
  {
   "cell_type": "markdown",
   "metadata": {},
   "source": [
    "---\n",
    "### 2.2 To DateTime\n",
    "\n",
    "Check-in time is not given in pandas useful datetime format, so we convert it for easier handling."
   ]
  },
  {
   "cell_type": "code",
   "execution_count": 9,
   "metadata": {},
   "outputs": [],
   "source": [
    "# Convert check-in times to datetime format\n",
    "BK_checkins_df['check-in time'] = pd.to_datetime(BK_checkins_df['check-in time'])\n",
    "GW_checkins_df['check-in time'] = pd.to_datetime(GW_checkins_df['check-in time'])"
   ]
  },
  {
   "cell_type": "markdown",
   "metadata": {},
   "source": [
    "We visualise the first values of Brightkites's check-in information data with the new datetime format."
   ]
  },
  {
   "cell_type": "code",
   "execution_count": 10,
   "metadata": {},
   "outputs": [
    {
     "data": {
      "text/html": [
       "<div>\n",
       "<style scoped>\n",
       "    .dataframe tbody tr th:only-of-type {\n",
       "        vertical-align: middle;\n",
       "    }\n",
       "\n",
       "    .dataframe tbody tr th {\n",
       "        vertical-align: top;\n",
       "    }\n",
       "\n",
       "    .dataframe thead th {\n",
       "        text-align: right;\n",
       "    }\n",
       "</style>\n",
       "<table border=\"1\" class=\"dataframe\">\n",
       "  <thead>\n",
       "    <tr style=\"text-align: right;\">\n",
       "      <th></th>\n",
       "      <th>user</th>\n",
       "      <th>check-in time</th>\n",
       "      <th>latitude</th>\n",
       "      <th>longitude</th>\n",
       "      <th>location id</th>\n",
       "    </tr>\n",
       "  </thead>\n",
       "  <tbody>\n",
       "    <tr>\n",
       "      <th>0</th>\n",
       "      <td>0</td>\n",
       "      <td>2010-10-19 23:55:27+00:00</td>\n",
       "      <td>30.235909</td>\n",
       "      <td>-97.795140</td>\n",
       "      <td>22847</td>\n",
       "    </tr>\n",
       "    <tr>\n",
       "      <th>1</th>\n",
       "      <td>0</td>\n",
       "      <td>2010-10-18 22:17:43+00:00</td>\n",
       "      <td>30.269103</td>\n",
       "      <td>-97.749395</td>\n",
       "      <td>420315</td>\n",
       "    </tr>\n",
       "    <tr>\n",
       "      <th>2</th>\n",
       "      <td>0</td>\n",
       "      <td>2010-10-17 23:42:03+00:00</td>\n",
       "      <td>30.255731</td>\n",
       "      <td>-97.763386</td>\n",
       "      <td>316637</td>\n",
       "    </tr>\n",
       "  </tbody>\n",
       "</table>\n",
       "</div>"
      ],
      "text/plain": [
       "   user             check-in time   latitude  longitude  location id\n",
       "0     0 2010-10-19 23:55:27+00:00  30.235909 -97.795140        22847\n",
       "1     0 2010-10-18 22:17:43+00:00  30.269103 -97.749395       420315\n",
       "2     0 2010-10-17 23:42:03+00:00  30.255731 -97.763386       316637"
      ]
     },
     "execution_count": 10,
     "metadata": {},
     "output_type": "execute_result"
    }
   ],
   "source": [
    "# Visualise data\n",
    "GW_checkins_df.head(3)"
   ]
  },
  {
   "cell_type": "markdown",
   "metadata": {},
   "source": [
    "---\n",
    "### 2.3 Filtering incoherant lines\n",
    "\n",
    "As previously mentionned, we need to filter the data of incoherant lines. We see no issues with the friendship network dataframes, however latitude, longitude and location id information contains mistakes as shown in the three cells below: check-ins on null island (lon=lat=0) and check-ins where the latitude is not in between -90 and 90 degrees. However after verification, no longitude data is outside -180 to 180 degrees, so no point in removing values here."
   ]
  },
  {
   "cell_type": "code",
   "execution_count": 11,
   "metadata": {},
   "outputs": [
    {
     "data": {
      "text/html": [
       "<div>\n",
       "<style scoped>\n",
       "    .dataframe tbody tr th:only-of-type {\n",
       "        vertical-align: middle;\n",
       "    }\n",
       "\n",
       "    .dataframe tbody tr th {\n",
       "        vertical-align: top;\n",
       "    }\n",
       "\n",
       "    .dataframe thead th {\n",
       "        text-align: right;\n",
       "    }\n",
       "</style>\n",
       "<table border=\"1\" class=\"dataframe\">\n",
       "  <thead>\n",
       "    <tr style=\"text-align: right;\">\n",
       "      <th></th>\n",
       "      <th>user</th>\n",
       "      <th>check-in time</th>\n",
       "      <th>latitude</th>\n",
       "      <th>longitude</th>\n",
       "      <th>location id</th>\n",
       "    </tr>\n",
       "  </thead>\n",
       "  <tbody>\n",
       "    <tr>\n",
       "      <th>112</th>\n",
       "      <td>0</td>\n",
       "      <td>2010-08-06 21:22:16+00:00</td>\n",
       "      <td>0.0</td>\n",
       "      <td>0.0</td>\n",
       "      <td>00000000000000000000000000000000</td>\n",
       "    </tr>\n",
       "    <tr>\n",
       "      <th>120</th>\n",
       "      <td>0</td>\n",
       "      <td>2010-08-03 05:46:21+00:00</td>\n",
       "      <td>0.0</td>\n",
       "      <td>0.0</td>\n",
       "      <td>00000000000000000000000000000000</td>\n",
       "    </tr>\n",
       "    <tr>\n",
       "      <th>225</th>\n",
       "      <td>0</td>\n",
       "      <td>2010-06-24 15:56:08+00:00</td>\n",
       "      <td>0.0</td>\n",
       "      <td>0.0</td>\n",
       "      <td>00000000000000000000000000000000</td>\n",
       "    </tr>\n",
       "  </tbody>\n",
       "</table>\n",
       "</div>"
      ],
      "text/plain": [
       "     user             check-in time  latitude  longitude  \\\n",
       "112     0 2010-08-06 21:22:16+00:00       0.0        0.0   \n",
       "120     0 2010-08-03 05:46:21+00:00       0.0        0.0   \n",
       "225     0 2010-06-24 15:56:08+00:00       0.0        0.0   \n",
       "\n",
       "                          location id  \n",
       "112  00000000000000000000000000000000  \n",
       "120  00000000000000000000000000000000  \n",
       "225  00000000000000000000000000000000  "
      ]
     },
     "execution_count": 11,
     "metadata": {},
     "output_type": "execute_result"
    }
   ],
   "source": [
    "# Show incoherant data (null island)\n",
    "BK_checkins_df[(BK_checkins_df['latitude'] == 0) & (BK_checkins_df['longitude'] == 0)].head(3)"
   ]
  },
  {
   "cell_type": "code",
   "execution_count": 12,
   "metadata": {},
   "outputs": [
    {
     "data": {
      "text/html": [
       "<div>\n",
       "<style scoped>\n",
       "    .dataframe tbody tr th:only-of-type {\n",
       "        vertical-align: middle;\n",
       "    }\n",
       "\n",
       "    .dataframe tbody tr th {\n",
       "        vertical-align: top;\n",
       "    }\n",
       "\n",
       "    .dataframe thead th {\n",
       "        text-align: right;\n",
       "    }\n",
       "</style>\n",
       "<table border=\"1\" class=\"dataframe\">\n",
       "  <thead>\n",
       "    <tr style=\"text-align: right;\">\n",
       "      <th></th>\n",
       "      <th>user</th>\n",
       "      <th>check-in time</th>\n",
       "      <th>latitude</th>\n",
       "      <th>longitude</th>\n",
       "      <th>location id</th>\n",
       "    </tr>\n",
       "  </thead>\n",
       "  <tbody>\n",
       "    <tr>\n",
       "      <th>3231781</th>\n",
       "      <td>14201</td>\n",
       "      <td>2009-01-19 07:34:58+00:00</td>\n",
       "      <td>151.198</td>\n",
       "      <td>-33.878333</td>\n",
       "      <td>884499bae3cb11ddbae9003048c0801e</td>\n",
       "    </tr>\n",
       "    <tr>\n",
       "      <th>3231782</th>\n",
       "      <td>14201</td>\n",
       "      <td>2009-01-18 23:56:08+00:00</td>\n",
       "      <td>151.198</td>\n",
       "      <td>-33.878333</td>\n",
       "      <td>884499bae3cb11ddbae9003048c0801e</td>\n",
       "    </tr>\n",
       "    <tr>\n",
       "      <th>3231783</th>\n",
       "      <td>14201</td>\n",
       "      <td>2009-01-18 12:24:39+00:00</td>\n",
       "      <td>151.198</td>\n",
       "      <td>-33.878333</td>\n",
       "      <td>884499bae3cb11ddbae9003048c0801e</td>\n",
       "    </tr>\n",
       "  </tbody>\n",
       "</table>\n",
       "</div>"
      ],
      "text/plain": [
       "          user             check-in time  latitude  longitude  \\\n",
       "3231781  14201 2009-01-19 07:34:58+00:00   151.198 -33.878333   \n",
       "3231782  14201 2009-01-18 23:56:08+00:00   151.198 -33.878333   \n",
       "3231783  14201 2009-01-18 12:24:39+00:00   151.198 -33.878333   \n",
       "\n",
       "                              location id  \n",
       "3231781  884499bae3cb11ddbae9003048c0801e  \n",
       "3231782  884499bae3cb11ddbae9003048c0801e  \n",
       "3231783  884499bae3cb11ddbae9003048c0801e  "
      ]
     },
     "execution_count": 12,
     "metadata": {},
     "output_type": "execute_result"
    }
   ],
   "source": [
    "# Show incoherant data (latitude above 90 deg)\n",
    "BK_checkins_df[BK_checkins_df['latitude'] > 90].head(3)"
   ]
  },
  {
   "cell_type": "code",
   "execution_count": 13,
   "metadata": {},
   "outputs": [
    {
     "data": {
      "text/html": [
       "<div>\n",
       "<style scoped>\n",
       "    .dataframe tbody tr th:only-of-type {\n",
       "        vertical-align: middle;\n",
       "    }\n",
       "\n",
       "    .dataframe tbody tr th {\n",
       "        vertical-align: top;\n",
       "    }\n",
       "\n",
       "    .dataframe thead th {\n",
       "        text-align: right;\n",
       "    }\n",
       "</style>\n",
       "<table border=\"1\" class=\"dataframe\">\n",
       "  <thead>\n",
       "    <tr style=\"text-align: right;\">\n",
       "      <th></th>\n",
       "      <th>user</th>\n",
       "      <th>check-in time</th>\n",
       "      <th>latitude</th>\n",
       "      <th>longitude</th>\n",
       "      <th>location id</th>\n",
       "    </tr>\n",
       "  </thead>\n",
       "  <tbody>\n",
       "    <tr>\n",
       "      <th>203793</th>\n",
       "      <td>271</td>\n",
       "      <td>2009-01-20 18:35:51+00:00</td>\n",
       "      <td>-94.578567</td>\n",
       "      <td>39.099727</td>\n",
       "      <td>a91ce4c2e5d711ddbdda003048c0801e</td>\n",
       "    </tr>\n",
       "    <tr>\n",
       "      <th>203794</th>\n",
       "      <td>271</td>\n",
       "      <td>2009-01-19 04:37:50+00:00</td>\n",
       "      <td>-94.578567</td>\n",
       "      <td>39.099727</td>\n",
       "      <td>a91ce4c2e5d711ddbdda003048c0801e</td>\n",
       "    </tr>\n",
       "    <tr>\n",
       "      <th>203795</th>\n",
       "      <td>271</td>\n",
       "      <td>2009-01-19 04:17:11+00:00</td>\n",
       "      <td>-94.578567</td>\n",
       "      <td>39.099727</td>\n",
       "      <td>a91ce4c2e5d711ddbdda003048c0801e</td>\n",
       "    </tr>\n",
       "  </tbody>\n",
       "</table>\n",
       "</div>"
      ],
      "text/plain": [
       "        user             check-in time   latitude  longitude  \\\n",
       "203793   271 2009-01-20 18:35:51+00:00 -94.578567  39.099727   \n",
       "203794   271 2009-01-19 04:37:50+00:00 -94.578567  39.099727   \n",
       "203795   271 2009-01-19 04:17:11+00:00 -94.578567  39.099727   \n",
       "\n",
       "                             location id  \n",
       "203793  a91ce4c2e5d711ddbdda003048c0801e  \n",
       "203794  a91ce4c2e5d711ddbdda003048c0801e  \n",
       "203795  a91ce4c2e5d711ddbdda003048c0801e  "
      ]
     },
     "execution_count": 13,
     "metadata": {},
     "output_type": "execute_result"
    }
   ],
   "source": [
    "# Show incoherant data (latitude below -90 deg)\n",
    "BK_checkins_df[BK_checkins_df['latitude'] < -90].head(3)"
   ]
  },
  {
   "cell_type": "markdown",
   "metadata": {},
   "source": [
    "We create a function to apply to both social network check-in dataframes to filter the data."
   ]
  },
  {
   "cell_type": "code",
   "execution_count": 14,
   "metadata": {},
   "outputs": [],
   "source": [
    "# Function that filters checkin data\n",
    "def filter_data(checkins_df):\n",
    "    # Input:\n",
    "    # -- checkins_df: a pandas dataframe containing check-in information\n",
    "    # Output:\n",
    "    # -- checkins_df: a pandas dataframe containing the filtered check-in information\n",
    "    \n",
    "    # For print\n",
    "    rows_before = checkins_df.shape[0]\n",
    "\n",
    "    # Remove incoherant lines\n",
    "    checkins_df = checkins_df[(checkins_df['latitude'] != 0) & (checkins_df['longitude'] != 0)]\n",
    "    checkins_df = checkins_df[(checkins_df['latitude'] < 90) & (checkins_df['latitude'] > -90)]\n",
    "\n",
    "    # For print\n",
    "    rows_after = checkins_df.shape[0]\n",
    "    rows_diff = rows_before-rows_after\n",
    "    print(\"Removed rows: %d (%.2f%% of the data)\" % (rows_diff, 100*rows_diff/rows_before))\n",
    "    \n",
    "    return checkins_df"
   ]
  },
  {
   "cell_type": "markdown",
   "metadata": {},
   "source": [
    "We apply the filtering function to both social networks."
   ]
  },
  {
   "cell_type": "code",
   "execution_count": 15,
   "metadata": {},
   "outputs": [
    {
     "name": "stdout",
     "output_type": "stream",
     "text": [
      "Removed rows: 256324 (5.40% of the data)\n",
      "Removed rows: 169 (0.00% of the data)\n"
     ]
    }
   ],
   "source": [
    "BK_checkins_df = filter_data(BK_checkins_df)\n",
    "GW_checkins_df = filter_data(GW_checkins_df)"
   ]
  },
  {
   "cell_type": "markdown",
   "metadata": {},
   "source": [
    "---\n",
    "## _Step 3:_ Finding Home\n",
    "\n",
    "User home locations are not explicitly given. The paper defines them by discretising the world into 25 by 25km cells, where the home location is the average position of check-ins in the cell with the most check-ins. We therefore have to follow three steps:\n",
    "1. Discretise the world into 25 by 25km cells\n",
    "2. Find each user's home cell defined as the cell with the most check-ins\n",
    "3. Find each user's home defined as the average position of check-ins in said cell"
   ]
  },
  {
   "cell_type": "markdown",
   "metadata": {},
   "source": [
    "---\n",
    "### 3.1 Discretising the World\n",
    "\n",
    "Here we want to divide the world into 25 by 25km cells. However the data gives us check-in positions in longitude and latitude. We define cell height and width in latitude and longitude and discretize the world by considering equal steps between -90 and 90 for latitude, and -180 to 180 for longitude. It is important to note that latitude steps are always equal, however longitude steps depend on the latitude. Each latitude and longitude is given a discretised value, considering it to be in between two steps."
   ]
  },
  {
   "cell_type": "code",
   "execution_count": 16,
   "metadata": {},
   "outputs": [],
   "source": [
    "# Global variable to define cell size\n",
    "CELL = 25\n",
    "\n",
    "# Function to convert km to latitude \n",
    "def km_to_lat(km):\n",
    "    # Input:\n",
    "    # -- km: a scalar of a distance in kilometers\n",
    "    # Output:\n",
    "    # -- a scalar of the converted distance in degrees (latitude)\n",
    "    \n",
    "    return 180*km/(np.pi*6371)\n",
    "\n",
    "# Function to convert km to longitude\n",
    "def km_to_lon(lat, km):\n",
    "    # Input:\n",
    "    # -- lat: a scalar of the latitude to consider for the calculation\n",
    "    # -- km: a scalar of a distance in kilometers\n",
    "    # Output:\n",
    "    # -- a scalar of the converted distance in degrees (longitude)\n",
    "    \n",
    "    return 180*km/(np.pi*6371*np.cos(lat*np.pi/180))\n",
    "\n",
    "# Function to add discretised latitude and longitude values to dataframe\n",
    "def discretise_checkins(checkins_df):\n",
    "    # Input:\n",
    "    # -- checkins_df: a pandas dataframe containing check-in information\n",
    "    # Output:\n",
    "    # -- checkins_discrete_df: a pandas dataframe containing the discretised check-in information\n",
    "    \n",
    "    # Copy input\n",
    "    checkins_discrete_df = checkins_df.copy()\n",
    "    \n",
    "    # Calculate index and discrete value of latitude\n",
    "    index_lat = ((90 + checkins_discrete_df.latitude)/km_to_lat(CELL)).astype(int)\n",
    "    discrete_lat = index_lat*km_to_lat(CELL)-90\n",
    "\n",
    "    # Calculate index and discrete value of longitude\n",
    "    index_lon = ((180 + checkins_discrete_df.longitude)/km_to_lon(discrete_lat, CELL)).astype(int)\n",
    "    discrete_lon = index_lon*km_to_lon(discrete_lat, CELL)-180\n",
    "\n",
    "    # Add columns to dataframe\n",
    "    checkins_discrete_df['discrete latitude'] = discrete_lat\n",
    "    checkins_discrete_df['discrete longitude'] = discrete_lon\n",
    "    checkins_discrete_df['position index'] = index_lat.astype(str) + '-' + index_lon.astype(str)\n",
    "    \n",
    "    return checkins_discrete_df"
   ]
  },
  {
   "cell_type": "markdown",
   "metadata": {},
   "source": [
    "We apply the discretising function to both social network datasets."
   ]
  },
  {
   "cell_type": "code",
   "execution_count": 17,
   "metadata": {},
   "outputs": [],
   "source": [
    "# Discretise checkin positions\n",
    "BK_checkins_discrete_df = discretise_checkins(BK_checkins_df)\n",
    "GW_checkins_discrete_df = discretise_checkins(GW_checkins_df)"
   ]
  },
  {
   "cell_type": "markdown",
   "metadata": {},
   "source": [
    "We visualise the new discretised check-in dataframe."
   ]
  },
  {
   "cell_type": "code",
   "execution_count": 18,
   "metadata": {},
   "outputs": [
    {
     "data": {
      "text/html": [
       "<div>\n",
       "<style scoped>\n",
       "    .dataframe tbody tr th:only-of-type {\n",
       "        vertical-align: middle;\n",
       "    }\n",
       "\n",
       "    .dataframe tbody tr th {\n",
       "        vertical-align: top;\n",
       "    }\n",
       "\n",
       "    .dataframe thead th {\n",
       "        text-align: right;\n",
       "    }\n",
       "</style>\n",
       "<table border=\"1\" class=\"dataframe\">\n",
       "  <thead>\n",
       "    <tr style=\"text-align: right;\">\n",
       "      <th></th>\n",
       "      <th>user</th>\n",
       "      <th>check-in time</th>\n",
       "      <th>latitude</th>\n",
       "      <th>longitude</th>\n",
       "      <th>location id</th>\n",
       "      <th>discrete latitude</th>\n",
       "      <th>discrete longitude</th>\n",
       "      <th>position index</th>\n",
       "    </tr>\n",
       "  </thead>\n",
       "  <tbody>\n",
       "    <tr>\n",
       "      <th>0</th>\n",
       "      <td>0</td>\n",
       "      <td>2010-10-17 01:48:53+00:00</td>\n",
       "      <td>39.747652</td>\n",
       "      <td>-104.992510</td>\n",
       "      <td>88c46bf20db295831bd2d1718ad7e6f5</td>\n",
       "      <td>39.727142</td>\n",
       "      <td>-105.163416</td>\n",
       "      <td>577-256</td>\n",
       "    </tr>\n",
       "    <tr>\n",
       "      <th>1</th>\n",
       "      <td>0</td>\n",
       "      <td>2010-10-16 06:02:04+00:00</td>\n",
       "      <td>39.891383</td>\n",
       "      <td>-105.070814</td>\n",
       "      <td>7a0f88982aa015062b95e3b4843f9ca2</td>\n",
       "      <td>39.727142</td>\n",
       "      <td>-105.163416</td>\n",
       "      <td>577-256</td>\n",
       "    </tr>\n",
       "    <tr>\n",
       "      <th>2</th>\n",
       "      <td>0</td>\n",
       "      <td>2010-10-16 03:48:54+00:00</td>\n",
       "      <td>39.891077</td>\n",
       "      <td>-105.068532</td>\n",
       "      <td>dd7cd3d264c2d063832db506fba8bf79</td>\n",
       "      <td>39.727142</td>\n",
       "      <td>-105.163416</td>\n",
       "      <td>577-256</td>\n",
       "    </tr>\n",
       "  </tbody>\n",
       "</table>\n",
       "</div>"
      ],
      "text/plain": [
       "   user             check-in time   latitude   longitude  \\\n",
       "0     0 2010-10-17 01:48:53+00:00  39.747652 -104.992510   \n",
       "1     0 2010-10-16 06:02:04+00:00  39.891383 -105.070814   \n",
       "2     0 2010-10-16 03:48:54+00:00  39.891077 -105.068532   \n",
       "\n",
       "                        location id  discrete latitude  discrete longitude  \\\n",
       "0  88c46bf20db295831bd2d1718ad7e6f5          39.727142         -105.163416   \n",
       "1  7a0f88982aa015062b95e3b4843f9ca2          39.727142         -105.163416   \n",
       "2  dd7cd3d264c2d063832db506fba8bf79          39.727142         -105.163416   \n",
       "\n",
       "  position index  \n",
       "0        577-256  \n",
       "1        577-256  \n",
       "2        577-256  "
      ]
     },
     "execution_count": 18,
     "metadata": {},
     "output_type": "execute_result"
    }
   ],
   "source": [
    "# Visualise data\n",
    "BK_checkins_discrete_df.head(3)"
   ]
  },
  {
   "cell_type": "markdown",
   "metadata": {},
   "source": [
    "---\n",
    "### 3.2 Finding user's home cell\n",
    "\n",
    "We group the discretised check-in dataframe by user and count the amount of check-ins in each cell. We choose the maximal value for each user, and define it as the home cell. A function is created and applied to both social networks."
   ]
  },
  {
   "cell_type": "code",
   "execution_count": 19,
   "metadata": {},
   "outputs": [],
   "source": [
    "# Function to find home cells\n",
    "def find_home_cells(checkins_discrete_df):\n",
    "    # Input:\n",
    "    # -- checkins_discrete_df: a pandas dataframe containing discretised check-in information\n",
    "    # Output:\n",
    "    # -- home_cell_df: a pandas dataframe containing the home cell information for each user\n",
    "    \n",
    "    # Group by user and position index and count amount of position indexes\n",
    "    home_cell_df = checkins_discrete_df.groupby(['user','discrete latitude', \\\n",
    "                     'discrete longitude','position index'], as_index = False)['latitude'].count()\n",
    "    \n",
    "    # Group by user and select max number of position indexes\n",
    "    home_cell_df = home_cell_df.loc[home_cell_df.groupby('user')['latitude'].idxmax()]\n",
    "    \n",
    "    # Reformat and rename data \n",
    "    home_cell_df = home_cell_df.drop(['position index', 'latitude'], axis=1)\n",
    "    home_cell_df.columns = ['user','home cell latitude','home cell longitude']\n",
    "    \n",
    "    return home_cell_df"
   ]
  },
  {
   "cell_type": "markdown",
   "metadata": {},
   "source": [
    "We apply the function to find home cells to each social network dataset."
   ]
  },
  {
   "cell_type": "code",
   "execution_count": 20,
   "metadata": {},
   "outputs": [],
   "source": [
    "# Find home cells\n",
    "BK_home_cell_df = find_home_cells(BK_checkins_discrete_df)\n",
    "GW_home_cell_df = find_home_cells(GW_checkins_discrete_df)"
   ]
  },
  {
   "cell_type": "markdown",
   "metadata": {},
   "source": [
    "We visualise the home cell dataframe."
   ]
  },
  {
   "cell_type": "code",
   "execution_count": 21,
   "metadata": {},
   "outputs": [
    {
     "data": {
      "text/html": [
       "<div>\n",
       "<style scoped>\n",
       "    .dataframe tbody tr th:only-of-type {\n",
       "        vertical-align: middle;\n",
       "    }\n",
       "\n",
       "    .dataframe tbody tr th {\n",
       "        vertical-align: top;\n",
       "    }\n",
       "\n",
       "    .dataframe thead th {\n",
       "        text-align: right;\n",
       "    }\n",
       "</style>\n",
       "<table border=\"1\" class=\"dataframe\">\n",
       "  <thead>\n",
       "    <tr style=\"text-align: right;\">\n",
       "      <th></th>\n",
       "      <th>user</th>\n",
       "      <th>home cell latitude</th>\n",
       "      <th>home cell longitude</th>\n",
       "    </tr>\n",
       "  </thead>\n",
       "  <tbody>\n",
       "    <tr>\n",
       "      <th>25</th>\n",
       "      <td>0</td>\n",
       "      <td>39.727142</td>\n",
       "      <td>-105.163416</td>\n",
       "    </tr>\n",
       "    <tr>\n",
       "      <th>46</th>\n",
       "      <td>1</td>\n",
       "      <td>37.478838</td>\n",
       "      <td>-122.487615</td>\n",
       "    </tr>\n",
       "    <tr>\n",
       "      <th>76</th>\n",
       "      <td>2</td>\n",
       "      <td>39.727142</td>\n",
       "      <td>-105.163416</td>\n",
       "    </tr>\n",
       "  </tbody>\n",
       "</table>\n",
       "</div>"
      ],
      "text/plain": [
       "    user  home cell latitude  home cell longitude\n",
       "25     0           39.727142          -105.163416\n",
       "46     1           37.478838          -122.487615\n",
       "76     2           39.727142          -105.163416"
      ]
     },
     "execution_count": 21,
     "metadata": {},
     "output_type": "execute_result"
    }
   ],
   "source": [
    "# Visualise data\n",
    "BK_home_cell_df.head(3)"
   ]
  },
  {
   "cell_type": "markdown",
   "metadata": {},
   "source": [
    "---\n",
    "### 3.2 Finding user's home\n",
    "\n",
    "We use the previously defined home cells to remove all checkins outside of them for each user. We then group the remaining check-ins by user and find the average position and define it as home. We create a function to apply to both datasets to find each user's home."
   ]
  },
  {
   "cell_type": "code",
   "execution_count": 22,
   "metadata": {},
   "outputs": [],
   "source": [
    "# Function that finds user homes\n",
    "def find_homes(checkins_df, home_cell_df):\n",
    "    # Input:\n",
    "    # -- checkins_df: a pandas dataframe containing check-in information\n",
    "    # -- home_cell_df: a pandas dataframe containing discretised check-in information\n",
    "    # Output:\n",
    "    # -- home_df: a pandas dataframe containing the home location of each user\n",
    "\n",
    "    # Merge checkins dataframe with home cell dataframe\n",
    "    home_df = pd.merge(checkins_df, home_cell_df, on='user')\n",
    "\n",
    "    # Keep checkins within home cell\n",
    "    home_df = home_df[(home_df['latitude'] >= home_df['home cell latitude']) & \\\n",
    "                      (home_df['latitude'] < home_df['home cell latitude'] + km_to_lat(CELL))]\n",
    "\n",
    "    home_df = home_df[(home_df['longitude'] >= home_df['home cell longitude']) & \\\n",
    "                      (home_df['longitude'] < home_df['home cell longitude'] + \\\n",
    "                       km_to_lon(home_df['home cell latitude'], CELL))]\n",
    "\n",
    "    # Group by user for mean latitude and longitude\n",
    "    home_df = home_df.groupby('user', as_index = False)[['latitude', 'longitude']].mean()\n",
    "\n",
    "    # Rename and Visualize data\n",
    "    home_df.columns = ['user', 'home latitude', 'home longitude']\n",
    "    \n",
    "    return home_df"
   ]
  },
  {
   "cell_type": "markdown",
   "metadata": {},
   "source": [
    "We apply the function to find user homes for each social network dataset."
   ]
  },
  {
   "cell_type": "code",
   "execution_count": 23,
   "metadata": {},
   "outputs": [],
   "source": [
    "# Find homes\n",
    "BK_home_df = find_homes(BK_checkins_df, BK_home_cell_df)\n",
    "GW_home_df = find_homes(GW_checkins_df, GW_home_cell_df)"
   ]
  },
  {
   "cell_type": "markdown",
   "metadata": {},
   "source": [
    "We visualise the home location dataframe."
   ]
  },
  {
   "cell_type": "code",
   "execution_count": 24,
   "metadata": {},
   "outputs": [
    {
     "data": {
      "text/html": [
       "<div>\n",
       "<style scoped>\n",
       "    .dataframe tbody tr th:only-of-type {\n",
       "        vertical-align: middle;\n",
       "    }\n",
       "\n",
       "    .dataframe tbody tr th {\n",
       "        vertical-align: top;\n",
       "    }\n",
       "\n",
       "    .dataframe thead th {\n",
       "        text-align: right;\n",
       "    }\n",
       "</style>\n",
       "<table border=\"1\" class=\"dataframe\">\n",
       "  <thead>\n",
       "    <tr style=\"text-align: right;\">\n",
       "      <th></th>\n",
       "      <th>user</th>\n",
       "      <th>home latitude</th>\n",
       "      <th>home longitude</th>\n",
       "    </tr>\n",
       "  </thead>\n",
       "  <tbody>\n",
       "    <tr>\n",
       "      <th>0</th>\n",
       "      <td>0</td>\n",
       "      <td>39.786400</td>\n",
       "      <td>-105.006965</td>\n",
       "    </tr>\n",
       "    <tr>\n",
       "      <th>1</th>\n",
       "      <td>1</td>\n",
       "      <td>37.602529</td>\n",
       "      <td>-122.381625</td>\n",
       "    </tr>\n",
       "    <tr>\n",
       "      <th>2</th>\n",
       "      <td>2</td>\n",
       "      <td>39.780855</td>\n",
       "      <td>-105.015456</td>\n",
       "    </tr>\n",
       "  </tbody>\n",
       "</table>\n",
       "</div>"
      ],
      "text/plain": [
       "   user  home latitude  home longitude\n",
       "0     0      39.786400     -105.006965\n",
       "1     1      37.602529     -122.381625\n",
       "2     2      39.780855     -105.015456"
      ]
     },
     "execution_count": 24,
     "metadata": {},
     "output_type": "execute_result"
    }
   ],
   "source": [
    "# Visualise Data\n",
    "BK_home_df.head(3)"
   ]
  },
  {
   "cell_type": "markdown",
   "metadata": {},
   "source": [
    "It is interesting to plot these values on a 2D map as shown below. We can clearly see the shape of the continents on this map with a majority of homes being in Europe and North America. This plot shows that the filtering and the location information haved worked well as we do not see any homes situated in impossible locations."
   ]
  },
  {
   "cell_type": "code",
   "execution_count": 25,
   "metadata": {},
   "outputs": [
    {
     "data": {
      "text/plain": [
       "<AxesSubplot:title={'center':'Gowalla'}, xlabel='home longitude', ylabel='home latitude'>"
      ]
     },
     "execution_count": 25,
     "metadata": {},
     "output_type": "execute_result"
    },
    {
     "data": {
      "image/png": "[encoded data removed]",
      "text/plain": [
       "<Figure size 1080x288 with 2 Axes>"
      ]
     },
     "metadata": {},
     "output_type": "display_data"
    }
   ],
   "source": [
    "# Plot to show homes\n",
    "plt.style.use('seaborn-darkgrid')\n",
    "\n",
    "fig, axes = plt.subplots(nrows=1, ncols=2, figsize=(15,4))\n",
    "fig.suptitle('Home Positions', fontsize=20)\n",
    "\n",
    "axes[0].set_title('Brightkite', fontsize=14)\n",
    "sns.scatterplot(ax = axes[0], data=BK_home_df, x='home longitude', y='home latitude', color='teal', legend=False)\n",
    "\n",
    "axes[1].set_title('Gowalla', fontsize=14)\n",
    "sns.scatterplot(ax = axes[1], data=GW_home_df, x='home longitude', y='home latitude', color='purple', legend=False)"
   ]
  },
  {
   "cell_type": "markdown",
   "metadata": {},
   "source": [
    "---\n",
    "## _Step 4:_ Distance from Friends\n",
    "\n",
    "We want to combine the user homes data with the social network edge data. After combining the two, we can find the probability density function of the distance between friends like in the paper. We follow three steps:\n",
    "1. Create a dataframe containing edge and location information\n",
    "2. Find the distance between friend's homes\n",
    "3. Plot the probability density function of said distances"
   ]
  },
  {
   "cell_type": "markdown",
   "metadata": {},
   "source": [
    "---\n",
    "### 4.1 Edge and location dataframe"
   ]
  },
  {
   "cell_type": "markdown",
   "metadata": {},
   "source": [
    "First we visualise a friendship network to be reminded of what it contains."
   ]
  },
  {
   "cell_type": "code",
   "execution_count": 26,
   "metadata": {},
   "outputs": [
    {
     "data": {
      "text/html": [
       "<div>\n",
       "<style scoped>\n",
       "    .dataframe tbody tr th:only-of-type {\n",
       "        vertical-align: middle;\n",
       "    }\n",
       "\n",
       "    .dataframe tbody tr th {\n",
       "        vertical-align: top;\n",
       "    }\n",
       "\n",
       "    .dataframe thead th {\n",
       "        text-align: right;\n",
       "    }\n",
       "</style>\n",
       "<table border=\"1\" class=\"dataframe\">\n",
       "  <thead>\n",
       "    <tr style=\"text-align: right;\">\n",
       "      <th></th>\n",
       "      <th>user</th>\n",
       "      <th>friendship</th>\n",
       "    </tr>\n",
       "  </thead>\n",
       "  <tbody>\n",
       "    <tr>\n",
       "      <th>0</th>\n",
       "      <td>0</td>\n",
       "      <td>1</td>\n",
       "    </tr>\n",
       "    <tr>\n",
       "      <th>1</th>\n",
       "      <td>0</td>\n",
       "      <td>2</td>\n",
       "    </tr>\n",
       "    <tr>\n",
       "      <th>2</th>\n",
       "      <td>0</td>\n",
       "      <td>3</td>\n",
       "    </tr>\n",
       "  </tbody>\n",
       "</table>\n",
       "</div>"
      ],
      "text/plain": [
       "   user  friendship\n",
       "0     0           1\n",
       "1     0           2\n",
       "2     0           3"
      ]
     },
     "execution_count": 26,
     "metadata": {},
     "output_type": "execute_result"
    }
   ],
   "source": [
    "# Visual reminder of the edges dataframe\n",
    "BK_edges_df.head(3)"
   ]
  },
  {
   "cell_type": "markdown",
   "metadata": {},
   "source": [
    "We create a function that takes home location information and combines it to the friendship network data. It then adds each user's home location as well as the friend's home location. With all of this information in a single dataframe, it will be easy to exctract distance between friend information."
   ]
  },
  {
   "cell_type": "code",
   "execution_count": 27,
   "metadata": {},
   "outputs": [],
   "source": [
    "# Function that creates dataframe with friendships and locations\n",
    "def user_friend_location(edges_df, home_df):\n",
    "    # Input:\n",
    "    # -- edges_df: a pandas dataframe containing frienship networks\n",
    "    # -- home_df: a pandas dataframe containing the home location of each user\n",
    "    # Output:\n",
    "    # -- edge_location_df: a pandas dataframe containing the and frienship networks the home location of each user\n",
    "\n",
    "    # Create new datagram by merging edges and homes to show user home location\n",
    "    edge_location_df = pd.merge(edges_df, home_df, on='user')\n",
    "\n",
    "    # Create new dataframe from user homes, with new names to merge with edges dataframe\n",
    "    friend_df = home_df.copy()\n",
    "    friend_df.columns = ['friendship', 'friend latitude', 'friend longitude']\n",
    "\n",
    "    # Merge with previous dataframe to have user friendships, home location and friend home locations\n",
    "    edge_location_df = pd.merge(edge_location_df, friend_df, on='friendship')\n",
    "\n",
    "    # Sort by user and friendship and reset index to stay consistent\n",
    "    edge_location_df = edge_location_df.sort_values(by=['user', 'friendship']).reset_index(drop=True)\n",
    "    \n",
    "    return edge_location_df"
   ]
  },
  {
   "cell_type": "markdown",
   "metadata": {},
   "source": [
    "We apply function to combine friendship network and home location information to both social networks."
   ]
  },
  {
   "cell_type": "code",
   "execution_count": 28,
   "metadata": {},
   "outputs": [
    {
     "data": {
      "text/html": [
       "<div>\n",
       "<style scoped>\n",
       "    .dataframe tbody tr th:only-of-type {\n",
       "        vertical-align: middle;\n",
       "    }\n",
       "\n",
       "    .dataframe tbody tr th {\n",
       "        vertical-align: top;\n",
       "    }\n",
       "\n",
       "    .dataframe thead th {\n",
       "        text-align: right;\n",
       "    }\n",
       "</style>\n",
       "<table border=\"1\" class=\"dataframe\">\n",
       "  <thead>\n",
       "    <tr style=\"text-align: right;\">\n",
       "      <th></th>\n",
       "      <th>user</th>\n",
       "      <th>home latitude</th>\n",
       "      <th>home longitude</th>\n",
       "    </tr>\n",
       "  </thead>\n",
       "  <tbody>\n",
       "  </tbody>\n",
       "</table>\n",
       "</div>"
      ],
      "text/plain": [
       "Empty DataFrame\n",
       "Columns: [user, home latitude, home longitude]\n",
       "Index: []"
      ]
     },
     "execution_count": 28,
     "metadata": {},
     "output_type": "execute_result"
    }
   ],
   "source": [
    "BK_home_df[BK_home_df.user == 73]"
   ]
  },
  {
   "cell_type": "code",
   "execution_count": 29,
   "metadata": {},
   "outputs": [],
   "source": [
    "# Create dataframe with friendships and locations\n",
    "BK_edge_location_df = user_friend_location(BK_edges_df, BK_home_df)\n",
    "GW_edge_location_df = user_friend_location(GW_edges_df, GW_home_df)"
   ]
  },
  {
   "cell_type": "markdown",
   "metadata": {},
   "source": [
    "We visualise the combined dataframe."
   ]
  },
  {
   "cell_type": "code",
   "execution_count": 30,
   "metadata": {},
   "outputs": [
    {
     "data": {
      "text/html": [
       "<div>\n",
       "<style scoped>\n",
       "    .dataframe tbody tr th:only-of-type {\n",
       "        vertical-align: middle;\n",
       "    }\n",
       "\n",
       "    .dataframe tbody tr th {\n",
       "        vertical-align: top;\n",
       "    }\n",
       "\n",
       "    .dataframe thead th {\n",
       "        text-align: right;\n",
       "    }\n",
       "</style>\n",
       "<table border=\"1\" class=\"dataframe\">\n",
       "  <thead>\n",
       "    <tr style=\"text-align: right;\">\n",
       "      <th></th>\n",
       "      <th>user</th>\n",
       "      <th>friendship</th>\n",
       "      <th>home latitude</th>\n",
       "      <th>home longitude</th>\n",
       "      <th>friend latitude</th>\n",
       "      <th>friend longitude</th>\n",
       "    </tr>\n",
       "  </thead>\n",
       "  <tbody>\n",
       "    <tr>\n",
       "      <th>0</th>\n",
       "      <td>0</td>\n",
       "      <td>1</td>\n",
       "      <td>39.7864</td>\n",
       "      <td>-105.006965</td>\n",
       "      <td>37.602529</td>\n",
       "      <td>-122.381625</td>\n",
       "    </tr>\n",
       "    <tr>\n",
       "      <th>1</th>\n",
       "      <td>0</td>\n",
       "      <td>2</td>\n",
       "      <td>39.7864</td>\n",
       "      <td>-105.006965</td>\n",
       "      <td>39.780855</td>\n",
       "      <td>-105.015456</td>\n",
       "    </tr>\n",
       "    <tr>\n",
       "      <th>2</th>\n",
       "      <td>0</td>\n",
       "      <td>3</td>\n",
       "      <td>39.7864</td>\n",
       "      <td>-105.006965</td>\n",
       "      <td>37.768065</td>\n",
       "      <td>-122.424688</td>\n",
       "    </tr>\n",
       "  </tbody>\n",
       "</table>\n",
       "</div>"
      ],
      "text/plain": [
       "   user  friendship  home latitude  home longitude  friend latitude  \\\n",
       "0     0           1        39.7864     -105.006965        37.602529   \n",
       "1     0           2        39.7864     -105.006965        39.780855   \n",
       "2     0           3        39.7864     -105.006965        37.768065   \n",
       "\n",
       "   friend longitude  \n",
       "0       -122.381625  \n",
       "1       -105.015456  \n",
       "2       -122.424688  "
      ]
     },
     "execution_count": 30,
     "metadata": {},
     "output_type": "execute_result"
    }
   ],
   "source": [
    "# Visualise Data\n",
    "BK_edge_location_df.head(3)"
   ]
  },
  {
   "cell_type": "markdown",
   "metadata": {},
   "source": [
    "---\n",
    "### 4.2 Distance between friends"
   ]
  },
  {
   "cell_type": "code",
   "execution_count": 31,
   "metadata": {},
   "outputs": [],
   "source": [
    "# Function that converts geographical coordinates to distance in km\n",
    "def geo_to_km(lat_0_deg, lon_0_deg, lat_1_deg, lon_1_deg):\n",
    "    # Input:\n",
    "    # -- lat_0_deg: a scalar of latitude of location 0\n",
    "    # -- lon_0_deg: a scalar of longitude of location 0\n",
    "    # -- lat_1_deg: a scalar of latitude of location 1\n",
    "    # -- lon_1_deg: a scalar of longitude of location 1\n",
    "    # Output:\n",
    "    # -- d: a scalar of the distance between location 0 and 1\n",
    "    \n",
    "    lat_0 = np.deg2rad(lat_0_deg)\n",
    "    lon_0 = np.deg2rad(lon_0_deg)\n",
    "    lat_1 = np.deg2rad(lat_1_deg)\n",
    "    lon_1 = np.deg2rad(lon_1_deg)    \n",
    "    d_lat = lat_1-lat_0\n",
    "    d_lon = lon_1-lon_0\n",
    "    \n",
    "    a = np.sin(d_lat/2)**2 + np.cos(lat_0)*np.cos(lat_1)*np.sin(d_lon/2)**2   \n",
    "    d = 6371*2*np.arctan2(np.sqrt(a), np.sqrt(1-a))\n",
    "    \n",
    "    return d\n",
    "\n",
    "# Function that calculates distance between user home and friend home\n",
    "def calculate_distances(edge_location_df):\n",
    "    # Input:\n",
    "    # -- edge_location_df: a pandas dataframe containing the and frienship networks the home location of each user\n",
    "    # Output:\n",
    "    # -- friend_distance_df: a pandas dataframe containing the distance between user and friend\n",
    "    \n",
    "    # Copy edge and location dataframe\n",
    "    friend_distance_df = edge_location_df.copy()\n",
    "\n",
    "    # Create new distance column in created dataframe\n",
    "    friend_distance_df['distance'] = geo_to_km(friend_distance_df['home latitude'],\n",
    "                                               friend_distance_df['home longitude'],\n",
    "                                               friend_distance_df['friend latitude'],\n",
    "                                               friend_distance_df['friend longitude'])\n",
    "    \n",
    "    # Remove unnecessary columns\n",
    "    friend_distance_df = friend_distance_df.drop(['home latitude', 'home longitude', 'friend latitude', \n",
    "                                                  'friend longitude'], axis=1)\n",
    "    \n",
    "    # Filter friends with no distance difference\n",
    "    friend_distance_df = friend_distance_df[friend_distance_df.distance > 0]\n",
    "    \n",
    "    return friend_distance_df"
   ]
  },
  {
   "cell_type": "markdown",
   "metadata": {},
   "source": [
    "We apply the function that calculates the distance between users to each social network dataset."
   ]
  },
  {
   "cell_type": "code",
   "execution_count": 32,
   "metadata": {},
   "outputs": [],
   "source": [
    "# Calculate distance to friends home\n",
    "BK_friend_distance_df = calculate_distances(BK_edge_location_df)\n",
    "GW_friend_distance_df = calculate_distances(GW_edge_location_df)"
   ]
  },
  {
   "cell_type": "markdown",
   "metadata": {},
   "source": [
    "We visualise the new dataframe."
   ]
  },
  {
   "cell_type": "code",
   "execution_count": 33,
   "metadata": {},
   "outputs": [
    {
     "data": {
      "text/html": [
       "<div>\n",
       "<style scoped>\n",
       "    .dataframe tbody tr th:only-of-type {\n",
       "        vertical-align: middle;\n",
       "    }\n",
       "\n",
       "    .dataframe tbody tr th {\n",
       "        vertical-align: top;\n",
       "    }\n",
       "\n",
       "    .dataframe thead th {\n",
       "        text-align: right;\n",
       "    }\n",
       "</style>\n",
       "<table border=\"1\" class=\"dataframe\">\n",
       "  <thead>\n",
       "    <tr style=\"text-align: right;\">\n",
       "      <th></th>\n",
       "      <th>user</th>\n",
       "      <th>friendship</th>\n",
       "      <th>distance</th>\n",
       "    </tr>\n",
       "  </thead>\n",
       "  <tbody>\n",
       "    <tr>\n",
       "      <th>0</th>\n",
       "      <td>0</td>\n",
       "      <td>1</td>\n",
       "      <td>1524.811459</td>\n",
       "    </tr>\n",
       "    <tr>\n",
       "      <th>1</th>\n",
       "      <td>0</td>\n",
       "      <td>2</td>\n",
       "      <td>0.952189</td>\n",
       "    </tr>\n",
       "    <tr>\n",
       "      <th>2</th>\n",
       "      <td>0</td>\n",
       "      <td>3</td>\n",
       "      <td>1523.968586</td>\n",
       "    </tr>\n",
       "  </tbody>\n",
       "</table>\n",
       "</div>"
      ],
      "text/plain": [
       "   user  friendship     distance\n",
       "0     0           1  1524.811459\n",
       "1     0           2     0.952189\n",
       "2     0           3  1523.968586"
      ]
     },
     "execution_count": 33,
     "metadata": {},
     "output_type": "execute_result"
    }
   ],
   "source": [
    "# Visualise Data\n",
    "BK_friend_distance_df.head(3)"
   ]
  },
  {
   "cell_type": "markdown",
   "metadata": {},
   "source": [
    "---\n",
    "### 4.3 Probability density function"
   ]
  },
  {
   "cell_type": "markdown",
   "metadata": {},
   "source": [
    "Note that each distance will appear twice because we consider datasets an undirected friendship network with bi-directional edges. However this won't affect the probability density function because every single distance appears twice.\n",
    "\n",
    "We first calculate the density histogram of all of the distances found in the previous dataframe. We want to a log-log plot, therefore we use a rescaled version of the bins of the first histogram, converted to a log scale to allow them to be of equal size on the log-log plot. We then use these new bins to plot a new density histogram as shown in the figure below."
   ]
  },
  {
   "cell_type": "code",
   "execution_count": 34,
   "metadata": {},
   "outputs": [
    {
     "data": {
      "image/png": "[encoded data removed]",
      "text/plain": [
       "<Figure size 400x300 with 1 Axes>"
      ]
     },
     "metadata": {},
     "output_type": "display_data"
    }
   ],
   "source": [
    "# Change plot style\n",
    "plt.style.use('default')\n",
    "\n",
    "# Create linear histogram with linearly spaced bins\n",
    "_, BK_bins = np.histogram(BK_friend_distance_df['distance'], bins=500)\n",
    "_, GW_bins = np.histogram(GW_friend_distance_df['distance'], bins=500)\n",
    "\n",
    "# Create logarithmically spaced bins\n",
    "BK_logbins = np.logspace(np.log10(BK_bins[0]), np.log10(BK_bins[-1]), len(BK_bins))\n",
    "GW_logbins = np.logspace(np.log10(GW_bins[0]), np.log10(GW_bins[-1]), len(GW_bins))\n",
    "\n",
    "# Create and plot new histograms with correct bin size\n",
    "f, ax = plt.subplots(figsize=(4, 3))\n",
    "\n",
    "BK_n, BK_bins, _ = plt.hist(BK_friend_distance_df['distance'], \n",
    "                            histtype=u'step', bins=BK_logbins, \n",
    "                            density=True, linewidth=2)\n",
    "\n",
    "GW_n, GW_bins, _ = plt.hist(GW_friend_distance_df['distance'], \n",
    "                            histtype=u'step', bins=GW_logbins, \n",
    "                            density=True, linewidth=2)\n",
    "\n",
    "ax.set(xscale=\"log\", yscale=\"log\")\n",
    "ax.set_xlim(1,1e5)\n",
    "ax.set_ylim(1e-6,1)\n",
    "plt.ylabel('Probability')\n",
    "plt.xlabel('Distance between homes (km)')\n",
    "_ = plt.title('Histogram of distances between friends', y=1.1)"
   ]
  },
  {
   "cell_type": "markdown",
   "metadata": {},
   "source": [
    "The density histogram gives us the distribution of home distances between friends as we wanted to replicate. All we need to do now is make it look good! We therefore modify a few parameters to make it look like the paper and get the result below."
   ]
  },
  {
   "cell_type": "code",
   "execution_count": 35,
   "metadata": {
    "scrolled": false
   },
   "outputs": [
    {
     "data": {
      "image/png": "[encoded data removed]",
      "text/plain": [
       "<Figure size 500x400 with 1 Axes>"
      ]
     },
     "metadata": {},
     "output_type": "display_data"
    }
   ],
   "source": [
    "# Get x and y histogram values as x=middle of bins and y=histogram value\n",
    "BK_x_values = BK_bins[:-1] + 0.5*(BK_bins[1:] - BK_bins[:-1])\n",
    "BK_y_values = BK_n\n",
    "GW_x_values = GW_bins[:-1] + 0.5*(GW_bins[1:] - GW_bins[:-1])\n",
    "GW_y_values = GW_n\n",
    "\n",
    "# Select every 2nd value for marker \n",
    "BK_x_values_marker = BK_x_values[::2]\n",
    "BK_y_values_marker = BK_y_values[::2]\n",
    "GW_x_values_marker = GW_x_values[::2]\n",
    "GW_y_values_marker = GW_y_values[::2]\n",
    "\n",
    "# Figure\n",
    "f, ax = plt.subplots(figsize=(5, 4))\n",
    "\n",
    "# Plot Brightkite data\n",
    "plt.plot(BK_x_values, BK_y_values, ls='--', color='royalblue', linewidth=0.5)\n",
    "plt.scatter(BK_x_values_marker, BK_y_values_marker, facecolors='none', edgecolors='b', s=200, linewidth=1.2)\n",
    "\n",
    "# Plot Gowalla data\n",
    "plt.plot(GW_x_values, GW_y_values, ls='--', color='indianred', linewidth=0.5)\n",
    "plt.scatter(GW_x_values_marker, GW_y_values_marker, marker='x', color='r', s=100, linewidth=1.2)\n",
    "plt.scatter(GW_x_values_marker, GW_y_values_marker, marker='+', color='r', s=200, linewidth=1.2)\n",
    "\n",
    "# Set scales and limits\n",
    "ax.set(xscale=\"log\", yscale=\"log\")\n",
    "ax.set_xlim(1,1e5)\n",
    "ax.set_ylim(1e-6,1)\n",
    "\n",
    "# Modify ticks and labels to look like paper\n",
    "plt.xticks(size = 15)\n",
    "plt.yticks([1e0, 1e-2, 1e-4, 1e-6], size = 15)\n",
    "plt.ylabel('Probability', size = 18)\n",
    "plt.xlabel('Distance between homes (km)', size = 18)\n",
    "_ = plt.title('Replicated figure: Distribution of home distances between friends', y=1.1)"
   ]
  },
  {
   "cell_type": "markdown",
   "metadata": {},
   "source": [
    "We can see that our figure, despite being slightly different than the paper, does a good job of showing the same trends as seen in the paper. The ditribution of home distance between friends follows the same behaviour for both social networks, following the same power law with exponential cutoff with the same kink around the 100km mark. This shows that our replication follows the same steps and gives the same results as the paper.\n",
    "\n",
    "Replication 1: DONE"
   ]
  },
  {
   "cell_type": "markdown",
   "metadata": {},
   "source": [
    "---\n",
    "\n",
    "# Replication 2\n",
    "\n",
    "## Figure 3B: Distribution of home distances between friends\n",
    "\n",
    "The figure to replicate is the following:\n",
    "\n",
    "<img src=\"Data/3B.png\" width=400>\n",
    "\n",
    "This figure shows the ratio of $P_{data}$, the fraction of friend visiting check-ins as a function of the distance traveled from home, and $P_{null}$, which quantifies the probability that a friend will be within the vicinity of a user if the user would travel “randomly”. The authors observe that the actual influence of a friend on a user making a long distance trip increases with the distance.\n",
    "\n",
    "---"
   ]
  },
  {
   "cell_type": "markdown",
   "metadata": {},
   "source": [
    "## Step 5: Visiting Friends\n",
    "\n",
    "The paper wants to investigate sociability of human movement by measuring how likely person A is to travel close to the home of a friend B. To do this we will do the following:\n",
    "1. Compute the distance between user check-ins and home\n",
    "2. Merge all the information we have into a single dataset for interpretation\n",
    "3. Compute whether a check-in is a \"visit\" or not according to the paper's defintion\n",
    "4. Calculate and plot $P_{data}(d)$"
   ]
  },
  {
   "cell_type": "markdown",
   "metadata": {},
   "source": [
    "---\n",
    "### 5.1 Distance between checkins and home\n",
    "\n",
    "We merge the home location and checkin location dataframes into a single dataframe. We then compute the distance between check-ins and home. Finally we clean ip the dataframe by renaming columns and removing unwanted columns."
   ]
  },
  {
   "cell_type": "code",
   "execution_count": 36,
   "metadata": {},
   "outputs": [],
   "source": [
    "# Create new dataframe with only checkin locations and id\n",
    "BK_checkins_dist_df = BK_checkins_df.copy().drop('check-in time', axis=1)\n",
    "\n",
    "# Modify dataframe by merging it with home locations\n",
    "BK_checkins_dist_df = pd.merge(BK_checkins_dist_df, BK_home_df, on='user')\n",
    "\n",
    "# Create a new column with the distance between the checkin and user's home\n",
    "BK_checkins_dist_df['distance from home'] = geo_to_km(BK_checkins_dist_df['latitude'],\n",
    "                                                      BK_checkins_dist_df['longitude'], \n",
    "                                                      BK_checkins_dist_df['home latitude'], \n",
    "                                                      BK_checkins_dist_df['home longitude'])\n",
    "\n",
    "# Remove unnecessary columns\n",
    "BK_checkins_dist_df = BK_checkins_dist_df.drop(['home latitude', 'home longitude'], axis=1)\n",
    "\n",
    "# Rename columns\n",
    "BK_checkins_dist_df.columns = ['user', 'checkin latitude', 'checkin longitude', 'location id', 'distance from home']"
   ]
  },
  {
   "cell_type": "markdown",
   "metadata": {},
   "source": [
    "We visualise the distance between home and checkins dataframe."
   ]
  },
  {
   "cell_type": "code",
   "execution_count": 37,
   "metadata": {},
   "outputs": [
    {
     "data": {
      "text/html": [
       "<div>\n",
       "<style scoped>\n",
       "    .dataframe tbody tr th:only-of-type {\n",
       "        vertical-align: middle;\n",
       "    }\n",
       "\n",
       "    .dataframe tbody tr th {\n",
       "        vertical-align: top;\n",
       "    }\n",
       "\n",
       "    .dataframe thead th {\n",
       "        text-align: right;\n",
       "    }\n",
       "</style>\n",
       "<table border=\"1\" class=\"dataframe\">\n",
       "  <thead>\n",
       "    <tr style=\"text-align: right;\">\n",
       "      <th></th>\n",
       "      <th>user</th>\n",
       "      <th>checkin latitude</th>\n",
       "      <th>checkin longitude</th>\n",
       "      <th>location id</th>\n",
       "      <th>distance from home</th>\n",
       "    </tr>\n",
       "  </thead>\n",
       "  <tbody>\n",
       "    <tr>\n",
       "      <th>0</th>\n",
       "      <td>0</td>\n",
       "      <td>39.747652</td>\n",
       "      <td>-104.992510</td>\n",
       "      <td>88c46bf20db295831bd2d1718ad7e6f5</td>\n",
       "      <td>4.482207</td>\n",
       "    </tr>\n",
       "    <tr>\n",
       "      <th>1</th>\n",
       "      <td>0</td>\n",
       "      <td>39.891383</td>\n",
       "      <td>-105.070814</td>\n",
       "      <td>7a0f88982aa015062b95e3b4843f9ca2</td>\n",
       "      <td>12.883766</td>\n",
       "    </tr>\n",
       "    <tr>\n",
       "      <th>2</th>\n",
       "      <td>0</td>\n",
       "      <td>39.891077</td>\n",
       "      <td>-105.068532</td>\n",
       "      <td>dd7cd3d264c2d063832db506fba8bf79</td>\n",
       "      <td>12.771528</td>\n",
       "    </tr>\n",
       "  </tbody>\n",
       "</table>\n",
       "</div>"
      ],
      "text/plain": [
       "   user  checkin latitude  checkin longitude  \\\n",
       "0     0         39.747652        -104.992510   \n",
       "1     0         39.891383        -105.070814   \n",
       "2     0         39.891077        -105.068532   \n",
       "\n",
       "                        location id  distance from home  \n",
       "0  88c46bf20db295831bd2d1718ad7e6f5            4.482207  \n",
       "1  7a0f88982aa015062b95e3b4843f9ca2           12.883766  \n",
       "2  dd7cd3d264c2d063832db506fba8bf79           12.771528  "
      ]
     },
     "execution_count": 37,
     "metadata": {},
     "output_type": "execute_result"
    }
   ],
   "source": [
    "# Visualise dataframe\n",
    "BK_checkins_dist_df.head(3)"
   ]
  },
  {
   "cell_type": "markdown",
   "metadata": {},
   "source": [
    "We also want to avoid large and pointless computation, so we remove duplicate locations for each user. However, we need to be careful here because some locations have been visited by multiple users. We don't want to remove duplicates in this case because we would be removing important check-in informtion for some users. We therefore create new location ids that take the location into consideration, as well as the user in the folling form: **new location id = user - location id**.\n",
    "\n",
    "For example:\n",
    "* user: 0\n",
    "* location id: 88c46bf20db295831bd2d1718ad7e6f5\n",
    "* new location id: 0 - 88c46bf20db295831bd2d1718ad7e6f5"
   ]
  },
  {
   "cell_type": "code",
   "execution_count": 38,
   "metadata": {},
   "outputs": [],
   "source": [
    "# New location id\n",
    "new_location_id = BK_checkins_dist_df['user'].astype(str) + ' - ' + BK_checkins_dist_df['location id']\n",
    "BK_checkins_dist_df['location id'] = new_location_id"
   ]
  },
  {
   "cell_type": "markdown",
   "metadata": {},
   "source": [
    "This step will also allow for better grouping during later operations."
   ]
  },
  {
   "cell_type": "markdown",
   "metadata": {},
   "source": [
    "We visualise the distance between home and checkins dataframe."
   ]
  },
  {
   "cell_type": "code",
   "execution_count": 39,
   "metadata": {},
   "outputs": [
    {
     "data": {
      "text/html": [
       "<div>\n",
       "<style scoped>\n",
       "    .dataframe tbody tr th:only-of-type {\n",
       "        vertical-align: middle;\n",
       "    }\n",
       "\n",
       "    .dataframe tbody tr th {\n",
       "        vertical-align: top;\n",
       "    }\n",
       "\n",
       "    .dataframe thead th {\n",
       "        text-align: right;\n",
       "    }\n",
       "</style>\n",
       "<table border=\"1\" class=\"dataframe\">\n",
       "  <thead>\n",
       "    <tr style=\"text-align: right;\">\n",
       "      <th></th>\n",
       "      <th>user</th>\n",
       "      <th>checkin latitude</th>\n",
       "      <th>checkin longitude</th>\n",
       "      <th>location id</th>\n",
       "      <th>distance from home</th>\n",
       "    </tr>\n",
       "  </thead>\n",
       "  <tbody>\n",
       "    <tr>\n",
       "      <th>0</th>\n",
       "      <td>0</td>\n",
       "      <td>39.747652</td>\n",
       "      <td>-104.992510</td>\n",
       "      <td>0 - 88c46bf20db295831bd2d1718ad7e6f5</td>\n",
       "      <td>4.482207</td>\n",
       "    </tr>\n",
       "    <tr>\n",
       "      <th>1</th>\n",
       "      <td>0</td>\n",
       "      <td>39.891383</td>\n",
       "      <td>-105.070814</td>\n",
       "      <td>0 - 7a0f88982aa015062b95e3b4843f9ca2</td>\n",
       "      <td>12.883766</td>\n",
       "    </tr>\n",
       "    <tr>\n",
       "      <th>2</th>\n",
       "      <td>0</td>\n",
       "      <td>39.891077</td>\n",
       "      <td>-105.068532</td>\n",
       "      <td>0 - dd7cd3d264c2d063832db506fba8bf79</td>\n",
       "      <td>12.771528</td>\n",
       "    </tr>\n",
       "  </tbody>\n",
       "</table>\n",
       "</div>"
      ],
      "text/plain": [
       "   user  checkin latitude  checkin longitude  \\\n",
       "0     0         39.747652        -104.992510   \n",
       "1     0         39.891383        -105.070814   \n",
       "2     0         39.891077        -105.068532   \n",
       "\n",
       "                            location id  distance from home  \n",
       "0  0 - 88c46bf20db295831bd2d1718ad7e6f5            4.482207  \n",
       "1  0 - 7a0f88982aa015062b95e3b4843f9ca2           12.883766  \n",
       "2  0 - dd7cd3d264c2d063832db506fba8bf79           12.771528  "
      ]
     },
     "execution_count": 39,
     "metadata": {},
     "output_type": "execute_result"
    }
   ],
   "source": [
    "# Visualise dataframe\n",
    "BK_checkins_dist_df.head(3)"
   ]
  },
  {
   "cell_type": "markdown",
   "metadata": {},
   "source": [
    "---\n",
    "### 5.2 Merging all of the information\n",
    "\n",
    "We want to create a dataframe containing check-in information for each user, user friendship networks, and friend home locations."
   ]
  },
  {
   "cell_type": "markdown",
   "metadata": {},
   "source": [
    "We first create a dataframe with friendship home location information. Luckily we have already created the **XX_edge_location_df** dataframes in step 4.1. We don't need user home locations, but only friend home locations so we remove the unwanted columns."
   ]
  },
  {
   "cell_type": "code",
   "execution_count": 40,
   "metadata": {},
   "outputs": [],
   "source": [
    "# Remove unnecessary columns\n",
    "BK_friend_location_df = BK_edge_location_df.drop(['home latitude', 'home longitude'], axis=1)\n",
    "\n",
    "# Rename columns\n",
    "BK_friend_location_df.columns = ['user', 'friend', 'friend latitude', 'friend longitude']"
   ]
  },
  {
   "cell_type": "markdown",
   "metadata": {},
   "source": [
    "We visualise the new friendship location information dataframe."
   ]
  },
  {
   "cell_type": "code",
   "execution_count": 41,
   "metadata": {},
   "outputs": [
    {
     "data": {
      "text/html": [
       "<div>\n",
       "<style scoped>\n",
       "    .dataframe tbody tr th:only-of-type {\n",
       "        vertical-align: middle;\n",
       "    }\n",
       "\n",
       "    .dataframe tbody tr th {\n",
       "        vertical-align: top;\n",
       "    }\n",
       "\n",
       "    .dataframe thead th {\n",
       "        text-align: right;\n",
       "    }\n",
       "</style>\n",
       "<table border=\"1\" class=\"dataframe\">\n",
       "  <thead>\n",
       "    <tr style=\"text-align: right;\">\n",
       "      <th></th>\n",
       "      <th>user</th>\n",
       "      <th>friend</th>\n",
       "      <th>friend latitude</th>\n",
       "      <th>friend longitude</th>\n",
       "    </tr>\n",
       "  </thead>\n",
       "  <tbody>\n",
       "    <tr>\n",
       "      <th>0</th>\n",
       "      <td>0</td>\n",
       "      <td>1</td>\n",
       "      <td>37.602529</td>\n",
       "      <td>-122.381625</td>\n",
       "    </tr>\n",
       "    <tr>\n",
       "      <th>1</th>\n",
       "      <td>0</td>\n",
       "      <td>2</td>\n",
       "      <td>39.780855</td>\n",
       "      <td>-105.015456</td>\n",
       "    </tr>\n",
       "    <tr>\n",
       "      <th>2</th>\n",
       "      <td>0</td>\n",
       "      <td>3</td>\n",
       "      <td>37.768065</td>\n",
       "      <td>-122.424688</td>\n",
       "    </tr>\n",
       "  </tbody>\n",
       "</table>\n",
       "</div>"
      ],
      "text/plain": [
       "   user  friend  friend latitude  friend longitude\n",
       "0     0       1        37.602529       -122.381625\n",
       "1     0       2        39.780855       -105.015456\n",
       "2     0       3        37.768065       -122.424688"
      ]
     },
     "execution_count": 41,
     "metadata": {},
     "output_type": "execute_result"
    }
   ],
   "source": [
    "# Visualise dataframe\n",
    "BK_friend_location_df.head(3)"
   ]
  },
  {
   "cell_type": "markdown",
   "metadata": {},
   "source": [
    "We now merge the this dataframe with the one created in 5.1. We will therefore have a single dataframe with checkin information for each user, as well as friend home locations. This will allow us to compare the distance between a users checkin and each of his friend's home."
   ]
  },
  {
   "cell_type": "code",
   "execution_count": 42,
   "metadata": {},
   "outputs": [],
   "source": [
    "# Merge on user\n",
    "BK_checkin_friend_df = pd.merge(BK_checkins_dist_df, BK_friend_location_df, on='user')"
   ]
  },
  {
   "cell_type": "markdown",
   "metadata": {},
   "source": [
    "We visualise the created dataframe."
   ]
  },
  {
   "cell_type": "code",
   "execution_count": 43,
   "metadata": {},
   "outputs": [
    {
     "data": {
      "text/html": [
       "<div>\n",
       "<style scoped>\n",
       "    .dataframe tbody tr th:only-of-type {\n",
       "        vertical-align: middle;\n",
       "    }\n",
       "\n",
       "    .dataframe tbody tr th {\n",
       "        vertical-align: top;\n",
       "    }\n",
       "\n",
       "    .dataframe thead th {\n",
       "        text-align: right;\n",
       "    }\n",
       "</style>\n",
       "<table border=\"1\" class=\"dataframe\">\n",
       "  <thead>\n",
       "    <tr style=\"text-align: right;\">\n",
       "      <th></th>\n",
       "      <th>user</th>\n",
       "      <th>checkin latitude</th>\n",
       "      <th>checkin longitude</th>\n",
       "      <th>location id</th>\n",
       "      <th>distance from home</th>\n",
       "      <th>friend</th>\n",
       "      <th>friend latitude</th>\n",
       "      <th>friend longitude</th>\n",
       "    </tr>\n",
       "  </thead>\n",
       "  <tbody>\n",
       "    <tr>\n",
       "      <th>0</th>\n",
       "      <td>0</td>\n",
       "      <td>39.747652</td>\n",
       "      <td>-104.99251</td>\n",
       "      <td>0 - 88c46bf20db295831bd2d1718ad7e6f5</td>\n",
       "      <td>4.482207</td>\n",
       "      <td>1</td>\n",
       "      <td>37.602529</td>\n",
       "      <td>-122.381625</td>\n",
       "    </tr>\n",
       "    <tr>\n",
       "      <th>1</th>\n",
       "      <td>0</td>\n",
       "      <td>39.747652</td>\n",
       "      <td>-104.99251</td>\n",
       "      <td>0 - 88c46bf20db295831bd2d1718ad7e6f5</td>\n",
       "      <td>4.482207</td>\n",
       "      <td>2</td>\n",
       "      <td>39.780855</td>\n",
       "      <td>-105.015456</td>\n",
       "    </tr>\n",
       "    <tr>\n",
       "      <th>2</th>\n",
       "      <td>0</td>\n",
       "      <td>39.747652</td>\n",
       "      <td>-104.99251</td>\n",
       "      <td>0 - 88c46bf20db295831bd2d1718ad7e6f5</td>\n",
       "      <td>4.482207</td>\n",
       "      <td>3</td>\n",
       "      <td>37.768065</td>\n",
       "      <td>-122.424688</td>\n",
       "    </tr>\n",
       "  </tbody>\n",
       "</table>\n",
       "</div>"
      ],
      "text/plain": [
       "   user  checkin latitude  checkin longitude  \\\n",
       "0     0         39.747652         -104.99251   \n",
       "1     0         39.747652         -104.99251   \n",
       "2     0         39.747652         -104.99251   \n",
       "\n",
       "                            location id  distance from home  friend  \\\n",
       "0  0 - 88c46bf20db295831bd2d1718ad7e6f5            4.482207       1   \n",
       "1  0 - 88c46bf20db295831bd2d1718ad7e6f5            4.482207       2   \n",
       "2  0 - 88c46bf20db295831bd2d1718ad7e6f5            4.482207       3   \n",
       "\n",
       "   friend latitude  friend longitude  \n",
       "0        37.602529       -122.381625  \n",
       "1        39.780855       -105.015456  \n",
       "2        37.768065       -122.424688  "
      ]
     },
     "execution_count": 43,
     "metadata": {},
     "output_type": "execute_result"
    }
   ],
   "source": [
    "# Visualise dataframe\n",
    "BK_checkin_friend_df.head(3)"
   ]
  },
  {
   "cell_type": "markdown",
   "metadata": {},
   "source": [
    "---\n",
    "### 5.3 Visiting friends\n",
    "\n",
    "We now verify if for each checkin, a user visits a friend. We defining visiting a friend the same way as in the paper: \"user $A$ “visits” her friend $B$ if $A$ checks-in within radius $r$ of $B$’s home\". We also define $r=25km$ as in the paper."
   ]
  },
  {
   "cell_type": "markdown",
   "metadata": {},
   "source": [
    "We calculate the distance between each user check-in, and each of the user's friend's homes. and create a new column in the dataframe. We then set the value to $0$ or $1$ according to the definition of a \"visit\"."
   ]
  },
  {
   "cell_type": "code",
   "execution_count": 44,
   "metadata": {},
   "outputs": [],
   "source": [
    "# Compute distance between checkin location and friend homes\n",
    "BK_checkin_friend_df['visit'] = geo_to_km(BK_checkin_friend_df['checkin latitude'], \n",
    "                                          BK_checkin_friend_df['checkin longitude'], \n",
    "                                          BK_checkin_friend_df['friend latitude'], \n",
    "                                          BK_checkin_friend_df['friend longitude'])\n",
    "\n",
    "# Change from distance to bool\n",
    "BK_checkin_friend_df.loc[BK_checkin_friend_df['visit'] < 25, 'visit'] = 1\n",
    "BK_checkin_friend_df.loc[BK_checkin_friend_df['visit'] >= 25, 'visit'] = 0"
   ]
  },
  {
   "cell_type": "markdown",
   "metadata": {},
   "source": [
    "We visualise the dataframe with the new column."
   ]
  },
  {
   "cell_type": "code",
   "execution_count": 45,
   "metadata": {
    "scrolled": false
   },
   "outputs": [
    {
     "data": {
      "text/html": [
       "<div>\n",
       "<style scoped>\n",
       "    .dataframe tbody tr th:only-of-type {\n",
       "        vertical-align: middle;\n",
       "    }\n",
       "\n",
       "    .dataframe tbody tr th {\n",
       "        vertical-align: top;\n",
       "    }\n",
       "\n",
       "    .dataframe thead th {\n",
       "        text-align: right;\n",
       "    }\n",
       "</style>\n",
       "<table border=\"1\" class=\"dataframe\">\n",
       "  <thead>\n",
       "    <tr style=\"text-align: right;\">\n",
       "      <th></th>\n",
       "      <th>user</th>\n",
       "      <th>checkin latitude</th>\n",
       "      <th>checkin longitude</th>\n",
       "      <th>location id</th>\n",
       "      <th>distance from home</th>\n",
       "      <th>friend</th>\n",
       "      <th>friend latitude</th>\n",
       "      <th>friend longitude</th>\n",
       "      <th>visit</th>\n",
       "    </tr>\n",
       "  </thead>\n",
       "  <tbody>\n",
       "    <tr>\n",
       "      <th>0</th>\n",
       "      <td>0</td>\n",
       "      <td>39.747652</td>\n",
       "      <td>-104.99251</td>\n",
       "      <td>0 - 88c46bf20db295831bd2d1718ad7e6f5</td>\n",
       "      <td>4.482207</td>\n",
       "      <td>1</td>\n",
       "      <td>37.602529</td>\n",
       "      <td>-122.381625</td>\n",
       "      <td>0.0</td>\n",
       "    </tr>\n",
       "    <tr>\n",
       "      <th>1</th>\n",
       "      <td>0</td>\n",
       "      <td>39.747652</td>\n",
       "      <td>-104.99251</td>\n",
       "      <td>0 - 88c46bf20db295831bd2d1718ad7e6f5</td>\n",
       "      <td>4.482207</td>\n",
       "      <td>2</td>\n",
       "      <td>39.780855</td>\n",
       "      <td>-105.015456</td>\n",
       "      <td>1.0</td>\n",
       "    </tr>\n",
       "    <tr>\n",
       "      <th>2</th>\n",
       "      <td>0</td>\n",
       "      <td>39.747652</td>\n",
       "      <td>-104.99251</td>\n",
       "      <td>0 - 88c46bf20db295831bd2d1718ad7e6f5</td>\n",
       "      <td>4.482207</td>\n",
       "      <td>3</td>\n",
       "      <td>37.768065</td>\n",
       "      <td>-122.424688</td>\n",
       "      <td>0.0</td>\n",
       "    </tr>\n",
       "  </tbody>\n",
       "</table>\n",
       "</div>"
      ],
      "text/plain": [
       "   user  checkin latitude  checkin longitude  \\\n",
       "0     0         39.747652         -104.99251   \n",
       "1     0         39.747652         -104.99251   \n",
       "2     0         39.747652         -104.99251   \n",
       "\n",
       "                            location id  distance from home  friend  \\\n",
       "0  0 - 88c46bf20db295831bd2d1718ad7e6f5            4.482207       1   \n",
       "1  0 - 88c46bf20db295831bd2d1718ad7e6f5            4.482207       2   \n",
       "2  0 - 88c46bf20db295831bd2d1718ad7e6f5            4.482207       3   \n",
       "\n",
       "   friend latitude  friend longitude  visit  \n",
       "0        37.602529       -122.381625    0.0  \n",
       "1        39.780855       -105.015456    1.0  \n",
       "2        37.768065       -122.424688    0.0  "
      ]
     },
     "execution_count": 45,
     "metadata": {},
     "output_type": "execute_result"
    }
   ],
   "source": [
    "BK_checkin_friend_df.head(3)"
   ]
  },
  {
   "cell_type": "markdown",
   "metadata": {},
   "source": [
    "We now group the dataset by the location id to know if for each check-in location for each user, a friend was visited."
   ]
  },
  {
   "cell_type": "code",
   "execution_count": 46,
   "metadata": {},
   "outputs": [],
   "source": [
    "# Groupby location id\n",
    "friend_visit = BK_checkin_friend_df.groupby('location id')['visit'].any().astype(int)"
   ]
  },
  {
   "cell_type": "markdown",
   "metadata": {},
   "source": [
    "Finally we merge the the information on whether a friend is visited or not with the original dataframe containing the distance of a check-in from home."
   ]
  },
  {
   "cell_type": "code",
   "execution_count": 47,
   "metadata": {},
   "outputs": [],
   "source": [
    "# Merge visits with checkin distance from home dataframe\n",
    "BK_friend_visit_df = pd.merge(BK_checkins_dist_df, friend_visit, on='location id')"
   ]
  },
  {
   "cell_type": "markdown",
   "metadata": {},
   "source": [
    "We visualise the created dataframe."
   ]
  },
  {
   "cell_type": "code",
   "execution_count": 48,
   "metadata": {},
   "outputs": [
    {
     "data": {
      "text/html": [
       "<div>\n",
       "<style scoped>\n",
       "    .dataframe tbody tr th:only-of-type {\n",
       "        vertical-align: middle;\n",
       "    }\n",
       "\n",
       "    .dataframe tbody tr th {\n",
       "        vertical-align: top;\n",
       "    }\n",
       "\n",
       "    .dataframe thead th {\n",
       "        text-align: right;\n",
       "    }\n",
       "</style>\n",
       "<table border=\"1\" class=\"dataframe\">\n",
       "  <thead>\n",
       "    <tr style=\"text-align: right;\">\n",
       "      <th></th>\n",
       "      <th>user</th>\n",
       "      <th>checkin latitude</th>\n",
       "      <th>checkin longitude</th>\n",
       "      <th>location id</th>\n",
       "      <th>distance from home</th>\n",
       "      <th>visit</th>\n",
       "    </tr>\n",
       "  </thead>\n",
       "  <tbody>\n",
       "    <tr>\n",
       "      <th>0</th>\n",
       "      <td>0</td>\n",
       "      <td>39.747652</td>\n",
       "      <td>-104.992510</td>\n",
       "      <td>0 - 88c46bf20db295831bd2d1718ad7e6f5</td>\n",
       "      <td>4.482207</td>\n",
       "      <td>1</td>\n",
       "    </tr>\n",
       "    <tr>\n",
       "      <th>1</th>\n",
       "      <td>0</td>\n",
       "      <td>39.891383</td>\n",
       "      <td>-105.070814</td>\n",
       "      <td>0 - 7a0f88982aa015062b95e3b4843f9ca2</td>\n",
       "      <td>12.883766</td>\n",
       "      <td>1</td>\n",
       "    </tr>\n",
       "    <tr>\n",
       "      <th>2</th>\n",
       "      <td>0</td>\n",
       "      <td>39.891383</td>\n",
       "      <td>-105.070814</td>\n",
       "      <td>0 - 7a0f88982aa015062b95e3b4843f9ca2</td>\n",
       "      <td>12.883766</td>\n",
       "      <td>1</td>\n",
       "    </tr>\n",
       "    <tr>\n",
       "      <th>3</th>\n",
       "      <td>0</td>\n",
       "      <td>39.891383</td>\n",
       "      <td>-105.070814</td>\n",
       "      <td>0 - 7a0f88982aa015062b95e3b4843f9ca2</td>\n",
       "      <td>12.883766</td>\n",
       "      <td>1</td>\n",
       "    </tr>\n",
       "    <tr>\n",
       "      <th>4</th>\n",
       "      <td>0</td>\n",
       "      <td>39.891383</td>\n",
       "      <td>-105.070814</td>\n",
       "      <td>0 - 7a0f88982aa015062b95e3b4843f9ca2</td>\n",
       "      <td>12.883766</td>\n",
       "      <td>1</td>\n",
       "    </tr>\n",
       "    <tr>\n",
       "      <th>...</th>\n",
       "      <td>...</td>\n",
       "      <td>...</td>\n",
       "      <td>...</td>\n",
       "      <td>...</td>\n",
       "      <td>...</td>\n",
       "      <td>...</td>\n",
       "    </tr>\n",
       "    <tr>\n",
       "      <th>4472554</th>\n",
       "      <td>58221</td>\n",
       "      <td>33.833333</td>\n",
       "      <td>35.833333</td>\n",
       "      <td>58221 - 9f6b83bca22411dd85460384f67fcdb0</td>\n",
       "      <td>0.000000</td>\n",
       "      <td>1</td>\n",
       "    </tr>\n",
       "    <tr>\n",
       "      <th>4472555</th>\n",
       "      <td>58222</td>\n",
       "      <td>33.833333</td>\n",
       "      <td>35.833333</td>\n",
       "      <td>58222 - 9f6b83bca22411dd85460384f67fcdb0</td>\n",
       "      <td>0.000000</td>\n",
       "      <td>0</td>\n",
       "    </tr>\n",
       "    <tr>\n",
       "      <th>4472556</th>\n",
       "      <td>58225</td>\n",
       "      <td>33.833333</td>\n",
       "      <td>35.833333</td>\n",
       "      <td>58225 - 9f6b83bca22411dd85460384f67fcdb0</td>\n",
       "      <td>0.000000</td>\n",
       "      <td>1</td>\n",
       "    </tr>\n",
       "    <tr>\n",
       "      <th>4472557</th>\n",
       "      <td>58226</td>\n",
       "      <td>33.833333</td>\n",
       "      <td>35.833333</td>\n",
       "      <td>58226 - 9f6b83bca22411dd85460384f67fcdb0</td>\n",
       "      <td>0.000000</td>\n",
       "      <td>1</td>\n",
       "    </tr>\n",
       "    <tr>\n",
       "      <th>4472558</th>\n",
       "      <td>58227</td>\n",
       "      <td>33.833333</td>\n",
       "      <td>35.833333</td>\n",
       "      <td>58227 - 9f6b83bca22411dd85460384f67fcdb0</td>\n",
       "      <td>0.000000</td>\n",
       "      <td>1</td>\n",
       "    </tr>\n",
       "  </tbody>\n",
       "</table>\n",
       "<p>4472559 rows × 6 columns</p>\n",
       "</div>"
      ],
      "text/plain": [
       "          user  checkin latitude  checkin longitude  \\\n",
       "0            0         39.747652        -104.992510   \n",
       "1            0         39.891383        -105.070814   \n",
       "2            0         39.891383        -105.070814   \n",
       "3            0         39.891383        -105.070814   \n",
       "4            0         39.891383        -105.070814   \n",
       "...        ...               ...                ...   \n",
       "4472554  58221         33.833333          35.833333   \n",
       "4472555  58222         33.833333          35.833333   \n",
       "4472556  58225         33.833333          35.833333   \n",
       "4472557  58226         33.833333          35.833333   \n",
       "4472558  58227         33.833333          35.833333   \n",
       "\n",
       "                                      location id  distance from home  visit  \n",
       "0            0 - 88c46bf20db295831bd2d1718ad7e6f5            4.482207      1  \n",
       "1            0 - 7a0f88982aa015062b95e3b4843f9ca2           12.883766      1  \n",
       "2            0 - 7a0f88982aa015062b95e3b4843f9ca2           12.883766      1  \n",
       "3            0 - 7a0f88982aa015062b95e3b4843f9ca2           12.883766      1  \n",
       "4            0 - 7a0f88982aa015062b95e3b4843f9ca2           12.883766      1  \n",
       "...                                           ...                 ...    ...  \n",
       "4472554  58221 - 9f6b83bca22411dd85460384f67fcdb0            0.000000      1  \n",
       "4472555  58222 - 9f6b83bca22411dd85460384f67fcdb0            0.000000      0  \n",
       "4472556  58225 - 9f6b83bca22411dd85460384f67fcdb0            0.000000      1  \n",
       "4472557  58226 - 9f6b83bca22411dd85460384f67fcdb0            0.000000      1  \n",
       "4472558  58227 - 9f6b83bca22411dd85460384f67fcdb0            0.000000      1  \n",
       "\n",
       "[4472559 rows x 6 columns]"
      ]
     },
     "execution_count": 48,
     "metadata": {},
     "output_type": "execute_result"
    }
   ],
   "source": [
    "# Visualise dataframe\n",
    "BK_friend_visit_df"
   ]
  },
  {
   "cell_type": "markdown",
   "metadata": {},
   "source": [
    "---\n",
    "### 5.4 Computing and plotting $P_{data}(d)$"
   ]
  },
  {
   "cell_type": "code",
   "execution_count": 94,
   "metadata": {},
   "outputs": [],
   "source": [
    "total_df = BK_friend_visit_df[BK_friend_visit_df['distance from home'] > 0]"
   ]
  },
  {
   "cell_type": "code",
   "execution_count": 95,
   "metadata": {},
   "outputs": [],
   "source": [
    "visit_df = df[df.visit == 1]"
   ]
  },
  {
   "cell_type": "code",
   "execution_count": 154,
   "metadata": {},
   "outputs": [
    {
     "data": {
      "image/png": "[encoded data removed]",
      "text/plain": [
       "<Figure size 400x300 with 1 Axes>"
      ]
     },
     "metadata": {},
     "output_type": "display_data"
    }
   ],
   "source": [
    "# Change plot style\n",
    "plt.style.use('default')\n",
    "\n",
    "# Create linear histogram with linearly spaced bins\n",
    "_, BK_bins = np.histogram(total_df['distance from home'], bins=250)\n",
    "\n",
    "# Create logarithmically spaced bins\n",
    "BK_logbins = np.logspace(np.log10(BK_bins[0]), np.log10(BK_bins[-1]), len(BK_bins))\n",
    "\n",
    "# Create and plot new histograms with correct bin size\n",
    "f, ax = plt.subplots(figsize=(4, 3))\n",
    "\n",
    "BK_n_tot, BK_bins, _ = plt.hist(total_df['distance from home'], \n",
    "                            histtype=u'step', bins=BK_logbins, \n",
    "                            density=True, linewidth=2)\n",
    "BK_n_visit, _, _ = plt.hist(visit_df['distance from home'], \n",
    "                            histtype=u'step', bins=BK_logbins, \n",
    "                            density=True, linewidth=2)\n",
    "\n",
    "ax.set(xscale=\"log\", yscale=\"log\")\n",
    "ax.set_xlim(1,1e5)\n",
    "ax.set_ylim(1e-3,1)\n",
    "plt.ylabel('Probability')\n",
    "plt.xlabel('Distance between homes (km)')\n",
    "_ = plt.title('Histogram of distances between friends', y=1.1)"
   ]
  },
  {
   "cell_type": "code",
   "execution_count": 156,
   "metadata": {},
   "outputs": [
    {
     "name": "stderr",
     "output_type": "stream",
     "text": [
      "<ipython-input-156-8989546329ae>:9: RuntimeWarning: invalid value encountered in true_divide\n",
      "  BK_y_values = (BK_n_visit/BK_n_tot)[::N]\n"
     ]
    },
    {
     "data": {
      "image/png": "[encoded data removed]",
      "text/plain": [
       "<Figure size 500x400 with 1 Axes>"
      ]
     },
     "metadata": {},
     "output_type": "display_data"
    }
   ],
   "source": [
    "N = 2\n",
    "\n",
    "# Get x and y histogram values as x=middle of bins and y=histogram value\n",
    "BK_x_values = (BK_bins[:-1] + 0.5*(BK_bins[1:] - BK_bins[:-1]))[::N]\n",
    "end = len(BK_x_values)\n",
    "BK_x_values = [x for x in BK_x_values if x > 20]\n",
    "start = end-len(BK_x_values)\n",
    "\n",
    "BK_y_values = (BK_n_visit/BK_n_tot)[::N]\n",
    "BK_y_values = BK_y_values[start:end]\n",
    "\n",
    "# Figure\n",
    "f, ax = plt.subplots(figsize=(5, 4))\n",
    "\n",
    "# Plot Brightkite data\n",
    "plt.plot(BK_x_values, BK_y_values, color='b', linewidth=2)\n",
    "plt.scatter(BK_x_values, BK_y_values, facecolors='none', edgecolors='b', s=200, linewidth=2)\n",
    "\n",
    "# Set scales and limits\n",
    "ax.set(xscale=\"log\", yscale=\"log\")\n",
    "ax.set_xlim(10,1e5)\n",
    "ax.set_ylim(1e-3,1)\n",
    "\n",
    "# Modify ticks and labels to look like paper\n",
    "plt.xticks(size = 15)\n",
    "plt.yticks([1e0, 1e-1, 1e-2, 1e-3], size = 15)\n",
    "plt.ylabel('Probability', size = 18)\n",
    "plt.xlabel('Distance between homes (km)', size = 18)\n",
    "_ = plt.title('Replicated figure: Distribution of home distances between friends', y=1.1)"
   ]
  }
 ],
 "metadata": {
  "kernelspec": {
   "display_name": "Python 3",
   "language": "python",
   "name": "python3"
  },
  "language_info": {
   "codemirror_mode": {
    "name": "ipython",
    "version": 3
   },
   "file_extension": ".py",
   "mimetype": "text/x-python",
   "name": "python",
   "nbconvert_exporter": "python",
   "pygments_lexer": "ipython3",
   "version": "3.8.5"
  },
  "pycharm": {
   "stem_cell": {
    "cell_type": "raw",
    "metadata": {
     "collapsed": false
    },
    "source": []
   }
  }
 },
 "nbformat": 4,
 "nbformat_minor": 1
}
